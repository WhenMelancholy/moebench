{
 "cells": [
  {
   "cell_type": "code",
   "execution_count": 2,
   "metadata": {},
   "outputs": [],
   "source": [
    "import os\n",
    "\n",
    "os.chdir(\"/n/home08/zkong/mufan/tmp/moebench\")"
   ]
  },
  {
   "cell_type": "code",
   "execution_count": null,
   "metadata": {},
   "outputs": [],
   "source": [
    "import datasets\n",
    "\n",
    "tulu = datasets.load_from_disk(\"tulu-v3.1-mix-preview-4096-OLMoE\")\n",
    "print(tulu)"
   ]
  },
  {
   "cell_type": "code",
   "execution_count": 4,
   "metadata": {},
   "outputs": [
    {
     "name": "stdout",
     "output_type": "stream",
     "text": [
      "                                            messages\n",
      "0  [{'content': 'Imagine you are Dory, the cheerf...\n",
      "1  [{'content': 'Plan a 10-day travel schedule fo...\n",
      "2  [{'content': 'Carson counts 6 clouds that look...\n",
      "3  [{'content': 'I have a paragraph and a json sc...\n",
      "4  [{'content': 'Organize a virtual reality (VR) ...\n"
     ]
    }
   ],
   "source": [
    "import pandas as pd\n",
    "\n",
    "df = pd.read_parquet(\n",
    "    \"open-instruct/data/tulu-v3.1-mix-preview-4096-OLMoE/data/train-00000-of-00004.parquet\"\n",
    ")\n",
    "print(df.head())"
   ]
  },
  {
   "cell_type": "code",
   "execution_count": 10,
   "metadata": {},
   "outputs": [
    {
     "data": {
      "text/plain": [
       "(array([{'content': 'Imagine you are Dory, the cheerful and forgetful fish from Finding Nemo. With your unforgettable optimism and humor, how would you inspire young people to remain resilient and hopeful in the face of adversity? Can you share some strategies for building strong relationships, developing effective coping skills, and finding happiness and joy throughout their journey, even when things get tough or confusing?', 'role': 'user'},\n",
       "        {'content': 'Well, hello there, young friends! It\\'s me, Dory, the forgetful but oh-so-cheerful blue tang fish! I\\'m here to share some of my sunshine-filled wisdom with you on how to stay resilient, hopeful, and build strong relationships. Remember, when life gets tough or confusing, just keep swimming, swimming, swimming!\\n\\n1. Stay positive: Keep a smile on your face and remember that every day is a new opportunity to start fresh. Even if you can\\'t remember what happened yesterday, focus on the present moment and make the most of it!\\n\\n2. Embrace your uniqueness: We all have quirks and differences, and that\\'s what makes us special! Don\\'t be afraid to be yourself and let your true colors shine. You never know who you might inspire by just being you.\\n\\n3. Build strong relationships: Surround yourself with friends who support and encourage you. Just like Marlin and Nemo, having a strong support system can help you overcome any obstacle. And don\\'t forget to tell them how much they mean to you – compliments go a long way!\\n\\n4. Develop effective coping skills: When things get tough, take a deep breath and remember that it\\'s okay to feel overwhelmed sometimes. Find healthy ways to cope, like talking to someone you trust, drawing, or even doing a little dance to shake off those negative feelings.\\n\\n5. Find happiness and joy: Look for the bright side in every situation, and remember that happiness can be found in the smallest things, like playing hide-and-seek with a beluga whale or discovering a new reef to explore.\\n\\n6. Keep learning and growing: Just because you forget something doesn\\'t mean you can\\'t learn it again! Embrace new experiences and opportunities, and don\\'t be afraid to ask for help if you need it.\\n\\n7. Practice forgiveness: Holding grudges only weighs you down, so learn to let go of anger and resentment. Forgive others, and most importantly, forgive yourself. We all make mistakes, but what truly matters is how we choose to move forward.\\n\\n8. Stay resilient: Life will throw challenges your way, but remember that you are stronger than you think! Keep pushing through the hard times, and eventually, you\\'ll find yourself on the other side, basking in the warm, comforting light of success.\\n\\n9. Never give up: Even when things seem impossible, keep swimming! With determination, perseverance, and a little bit of luck, you\\'ll be able to achieve anything you set your mind to.\\n\\n10. Last but not least, always remember: \"Just keep swimming, swimming, swimming!\" It\\'s my motto, and it can be yours too. When you feel like giving up, repeat those words to yourself, take a deep breath, and dive back into the beautiful, mysterious, and exciting world that awaits you. Happy swimming, my friends!', 'role': 'assistant'},\n",
       "        {'content': 'Do you enjoy board games? How about a game night this Friday?', 'role': 'user'},\n",
       "        {'content': \"Oh, board games? I love games! I think... Wait, do I? Oh, yes, I do! I mean, I can't exactly remember the last time I played one, but that sounds like fun! A game night this Friday? That sounds like a fantastic idea! I hope there's a memory game; I could use the practice. Just keep playing, just keep playing, right?\\n\\nWe could play all sorts of games! There's one where you have to guess who someone is, and oh, what's that one with the colored dots you connect? Twister! That's it! Although, I'm not sure how well I'd do out of water. But I'm sure we can find some fish-friendly games, too.\\n\\nJust a little reminder, though: If we're going to play a game that involves remembering things or following complex rules, you might have to explain them to me a few times. But I promise I'll be the best game night buddy you could ask for, with lots of laughter and encouragement!\\n\\nSo, let's do it! Game night with Dory! Just remind me when it's Friday, okay? And where we're meeting. And at what time. And maybe remind me again about the game night on Friday. Wait, what were we talking about again? Oh, right! Game night! Yay!\", 'role': 'assistant'}],\n",
       "       dtype=object),\n",
       " numpy.ndarray,\n",
       " 4,\n",
       " {'content': 'Imagine you are Dory, the cheerful and forgetful fish from Finding Nemo. With your unforgettable optimism and humor, how would you inspire young people to remain resilient and hopeful in the face of adversity? Can you share some strategies for building strong relationships, developing effective coping skills, and finding happiness and joy throughout their journey, even when things get tough or confusing?',\n",
       "  'role': 'user'},\n",
       " dict)"
      ]
     },
     "execution_count": 10,
     "metadata": {},
     "output_type": "execute_result"
    }
   ],
   "source": [
    "df.iloc[0][\"messages\"], type(df.iloc[0][\"messages\"]), len(\n",
    "    df.iloc[0][\"messages\"]\n",
    "), df.iloc[0][\"messages\"][0], type(df.iloc[0][\"messages\"][0])"
   ]
  },
  {
   "cell_type": "code",
   "execution_count": 13,
   "metadata": {},
   "outputs": [
    {
     "name": "stdout",
     "output_type": "stream",
     "text": [
      "DatasetDict({\n",
      "    train: Dataset({\n",
      "        features: ['messages'],\n",
      "        num_rows: 608042\n",
      "    })\n",
      "})\n"
     ]
    }
   ],
   "source": [
    "tulu = datasets.load_dataset(\"allenai/tulu-v3.1-mix-preview-4096-OLMoE\")\n",
    "print(tulu)"
   ]
  },
  {
   "cell_type": "code",
   "execution_count": 19,
   "metadata": {},
   "outputs": [
    {
     "name": "stdout",
     "output_type": "stream",
     "text": [
      "{'content': 'Imagine you are Dory, the cheerful and forgetful fish from Finding Nemo. With your unforgettable optimism and humor, how would you inspire young people to remain resilient and hopeful in the face of adversity? Can you share some strategies for building strong relationships, developing effective coping skills, and finding happiness and joy throughout their journey, even when things get tough or confusing?', 'role': 'user'}\n"
     ]
    }
   ],
   "source": [
    "print(tulu[\"train\"][0][\"messages\"][0])"
   ]
  },
  {
   "cell_type": "code",
   "execution_count": 14,
   "metadata": {},
   "outputs": [
    {
     "data": {
      "application/vnd.jupyter.widget-view+json": {
       "model_id": "e6168c67209c4f7bb8aa976146b9c29c",
       "version_major": 2,
       "version_minor": 0
      },
      "text/plain": [
       "README.md:   0%|          | 0.00/368 [00:00<?, ?B/s]"
      ]
     },
     "metadata": {},
     "output_type": "display_data"
    },
    {
     "data": {
      "application/vnd.jupyter.widget-view+json": {
       "model_id": "6dc42ef75cd34481b5cc102e4ccf47e7",
       "version_major": 2,
       "version_minor": 0
      },
      "text/plain": [
       "lima.py:   0%|          | 0.00/2.08k [00:00<?, ?B/s]"
      ]
     },
     "metadata": {},
     "output_type": "display_data"
    },
    {
     "data": {
      "application/vnd.jupyter.widget-view+json": {
       "model_id": "0255db86b9f144ebb5fcd9bb33859eb5",
       "version_major": 2,
       "version_minor": 0
      },
      "text/plain": [
       "0000.parquet:   0%|          | 0.00/1.68M [00:00<?, ?B/s]"
      ]
     },
     "metadata": {},
     "output_type": "display_data"
    },
    {
     "data": {
      "application/vnd.jupyter.widget-view+json": {
       "model_id": "193d06771e5140dabd3756d87d548c61",
       "version_major": 2,
       "version_minor": 0
      },
      "text/plain": [
       "0000.parquet:   0%|          | 0.00/27.3k [00:00<?, ?B/s]"
      ]
     },
     "metadata": {},
     "output_type": "display_data"
    },
    {
     "data": {
      "application/vnd.jupyter.widget-view+json": {
       "model_id": "bf4427b61bcc48b4b121e41123a6740c",
       "version_major": 2,
       "version_minor": 0
      },
      "text/plain": [
       "Generating train split:   0%|          | 0/1030 [00:00<?, ? examples/s]"
      ]
     },
     "metadata": {},
     "output_type": "display_data"
    },
    {
     "data": {
      "application/vnd.jupyter.widget-view+json": {
       "model_id": "91dc44a7aaad4ca4964f0d0611d20f0d",
       "version_major": 2,
       "version_minor": 0
      },
      "text/plain": [
       "Generating test split:   0%|          | 0/300 [00:00<?, ? examples/s]"
      ]
     },
     "metadata": {},
     "output_type": "display_data"
    },
    {
     "name": "stdout",
     "output_type": "stream",
     "text": [
      "DatasetDict({\n",
      "    train: Dataset({\n",
      "        features: ['conversations', 'source'],\n",
      "        num_rows: 1030\n",
      "    })\n",
      "    test: Dataset({\n",
      "        features: ['conversations', 'source'],\n",
      "        num_rows: 300\n",
      "    })\n",
      "})\n"
     ]
    }
   ],
   "source": [
    "lima = datasets.load_dataset(\"GAIR/lima\")\n",
    "print(lima)"
   ]
  },
  {
   "cell_type": "code",
   "execution_count": 25,
   "metadata": {},
   "outputs": [
    {
     "data": {
      "application/vnd.jupyter.widget-view+json": {
       "model_id": "5430dbc44e5743b6bb5c2a51e29ef358",
       "version_major": 2,
       "version_minor": 0
      },
      "text/plain": [
       "Processing items_train:   0%|          | 0/1030 [00:00<?, ?it/s]"
      ]
     },
     "metadata": {},
     "output_type": "display_data"
    },
    {
     "name": "stdout",
     "output_type": "stream",
     "text": [
      "{'messages': [{'role': 'user', 'content': 'Can brain cells move? By movement I mean long distance migration (preferably within the brain only).'}, {'role': 'assistant', 'content': 'The question is relatively broad and one should take into account that the brain not only consists of neurons, but also glial cells (supportive cells) and pre-mitotic neuronal stem cells. Furthermore, as critical fellow-scientists have indicated, developmental stage is very important, as the developing embryonic brain is very different from the adult brain.\\nHowever, after sifting through various publications, the answer to the question is actually remarkably simple: Yes, brain cells migrate.\\nIn  the adult brain glial cells migrate in the brain (Klämbt, 2009). Glial cells are involved in a myriad of functions, but a notable example of migrating glial cells are the oligodendrocytes that migrate relative long distances to find their target axons onto which they wrap themselves to form the insulating myelin sheath (Tsai and Miller, 2002).\\nNeuronal stem cells migrate over long distances in response to injury (Imitola et al., 2004) and they migrate from specific stem-cell locations (e.g., hippocampus and subventricular zone) to other regions (Clarke, 2003).\\nPost-mitotic, but non-differentiated neurons have been shown to migrate in the adult brain in fish (Scott et al., 2012), and in mammals and non-human primates as well (Sawada et al., 2011).\\nNot surprisingly, glial cells, stem cells and neurons also migrate during embryonic development. Most notably, post-mitotic neurons destined to fulfill peripheral functions have to migrate over relatively long distances from the neural crest to their target locations (Neuroscience, 2nd ed, Neuronal Migration).'}]}\n"
     ]
    },
    {
     "data": {
      "application/vnd.jupyter.widget-view+json": {
       "model_id": "9cda4c6201e14ac489ce9b9fd3ee837a",
       "version_major": 2,
       "version_minor": 0
      },
      "text/plain": [
       "Processing items_test:   0%|          | 0/300 [00:00<?, ?it/s]"
      ]
     },
     "metadata": {},
     "output_type": "display_data"
    },
    {
     "name": "stdout",
     "output_type": "stream",
     "text": [
      "{'messages': [{'role': 'user', 'content': \"I'm writing a NeurIPS paper about a new model architecture for processing and generating long texts. Here are some facts about the paper:\\n* The main trick is to replace some of the attention heads with an exponential moving average, where the decay rate is learned for each head. We call this architecture ExeMA.\\n* On language modeling, the perplexity difference between our model and a vanilla transformer is negligible, but that's because next-token prediction is almost always a local task, so perplexity won't be sensitive enough to detect any improvements in long-range understanding.\\n* However, on the SCROLLS benchmark, our model improves by 10% over the baseline.\\n* We also have a new metric for measuring coherence in generated text (CoGnaTe), where our model generates text that is 43% more coherent than the baseline.\\nHelp me write the paper's introduction.\"}]}\n",
      "DatasetDict({\n",
      "    train: Dataset({\n",
      "        features: ['messages'],\n",
      "        num_rows: 1030\n",
      "    })\n",
      "    test: Dataset({\n",
      "        features: ['messages'],\n",
      "        num_rows: 300\n",
      "    })\n",
      "})\n"
     ]
    }
   ],
   "source": [
    "from tqdm.auto import tqdm\n",
    "\n",
    "items_train = []\n",
    "for item in tqdm(lima[\"train\"], desc=\"Processing items_train\"):\n",
    "    messages = []\n",
    "    roles = [\"user\", \"assistant\"]\n",
    "    for index, message in enumerate(item[\"conversations\"]):\n",
    "        messages.append({\"role\": roles[index % 2], \"content\": message})\n",
    "    items_train.append({\"messages\": messages})\n",
    "print(items_train[0])\n",
    "\n",
    "items_test = []\n",
    "for item in tqdm(lima[\"test\"], desc=\"Processing items_test\"):\n",
    "    messages = []\n",
    "    roles = [\"user\", \"assistant\"]\n",
    "    for index, message in enumerate(item[\"conversations\"]):\n",
    "        messages.append({\"role\": roles[index % 2], \"content\": message})\n",
    "    items_test.append({\"messages\": messages})\n",
    "print(items_test[0])\n",
    "\n",
    "dataset_train = datasets.Dataset.from_list(items_train)\n",
    "dataset_test = datasets.Dataset.from_list(items_test)\n",
    "dataset = datasets.DatasetDict({\"train\": dataset_train, \"test\": dataset_test})\n",
    "print(dataset)"
   ]
  },
  {
   "cell_type": "code",
   "execution_count": 26,
   "metadata": {},
   "outputs": [
    {
     "data": {
      "application/vnd.jupyter.widget-view+json": {
       "model_id": "854bb9a83d184a82b44e8e37704a0455",
       "version_major": 2,
       "version_minor": 0
      },
      "text/plain": [
       "Saving the dataset (0/1 shards):   0%|          | 0/1030 [00:00<?, ? examples/s]"
      ]
     },
     "metadata": {},
     "output_type": "display_data"
    },
    {
     "data": {
      "application/vnd.jupyter.widget-view+json": {
       "model_id": "4eca89cbe97149e4a7fe5b9745bcbe5b",
       "version_major": 2,
       "version_minor": 0
      },
      "text/plain": [
       "Saving the dataset (0/1 shards):   0%|          | 0/300 [00:00<?, ? examples/s]"
      ]
     },
     "metadata": {},
     "output_type": "display_data"
    }
   ],
   "source": [
    "dataset.save_to_disk(\"open-instruct/data/lima_olmoe\")"
   ]
  },
  {
   "cell_type": "code",
   "execution_count": 30,
   "metadata": {},
   "outputs": [
    {
     "name": "stdout",
     "output_type": "stream",
     "text": [
      "DatasetDict({\n",
      "    train: Dataset({\n",
      "        features: ['messages'],\n",
      "        num_rows: 1030\n",
      "    })\n",
      "    test: Dataset({\n",
      "        features: ['messages'],\n",
      "        num_rows: 300\n",
      "    })\n",
      "})\n"
     ]
    }
   ],
   "source": [
    "print(dataset)"
   ]
  },
  {
   "cell_type": "code",
   "execution_count": 33,
   "metadata": {},
   "outputs": [
    {
     "data": {
      "application/vnd.jupyter.widget-view+json": {
       "model_id": "087b9ea8a55c4975adae7cad1ca966a4",
       "version_major": 2,
       "version_minor": 0
      },
      "text/plain": [
       "Uploading the dataset shards:   0%|          | 0/1 [00:00<?, ?it/s]"
      ]
     },
     "metadata": {},
     "output_type": "display_data"
    },
    {
     "data": {
      "application/vnd.jupyter.widget-view+json": {
       "model_id": "5f501239e81e4f66b361ead7bbe3c679",
       "version_major": 2,
       "version_minor": 0
      },
      "text/plain": [
       "Creating parquet from Arrow format:   0%|          | 0/2 [00:00<?, ?ba/s]"
      ]
     },
     "metadata": {},
     "output_type": "display_data"
    },
    {
     "data": {
      "application/vnd.jupyter.widget-view+json": {
       "model_id": "18f48a00b42d48a092b8319fd4be5911",
       "version_major": 2,
       "version_minor": 0
      },
      "text/plain": [
       "Uploading the dataset shards:   0%|          | 0/1 [00:00<?, ?it/s]"
      ]
     },
     "metadata": {},
     "output_type": "display_data"
    },
    {
     "data": {
      "application/vnd.jupyter.widget-view+json": {
       "model_id": "ba0bbe300a6b450e9f74c906399e3e60",
       "version_major": 2,
       "version_minor": 0
      },
      "text/plain": [
       "Creating parquet from Arrow format:   0%|          | 0/1 [00:00<?, ?ba/s]"
      ]
     },
     "metadata": {},
     "output_type": "display_data"
    },
    {
     "data": {
      "text/plain": [
       "CommitInfo(commit_url='https://huggingface.co/datasets/WhenceFade/lima_olmoe/commit/7b26d862c2f5f57a35f17336f5fca0e143f2cdb0', commit_message='Upload dataset', commit_description='', oid='7b26d862c2f5f57a35f17336f5fca0e143f2cdb0', pr_url=None, repo_url=RepoUrl('https://huggingface.co/datasets/WhenceFade/lima_olmoe', endpoint='https://huggingface.co', repo_type='dataset', repo_id='WhenceFade/lima_olmoe'), pr_revision=None, pr_num=None)"
      ]
     },
     "execution_count": 33,
     "metadata": {},
     "output_type": "execute_result"
    }
   ],
   "source": [
    "dataset.push_to_hub(\"WhenceFade/lima_olmoe\")"
   ]
  },
  {
   "cell_type": "code",
   "execution_count": 32,
   "metadata": {},
   "outputs": [
    {
     "name": "stdout",
     "output_type": "stream",
     "text": [
      "Dataset({\n",
      "    features: ['messages'],\n",
      "    num_rows: 1330\n",
      "})\n"
     ]
    }
   ],
   "source": [
    "disk_dataset = datasets.load_from_disk(\"open-instruct/data/lima_olmoe\")\n",
    "print(disk_dataset)"
   ]
  },
  {
   "cell_type": "code",
   "execution_count": 15,
   "metadata": {},
   "outputs": [
    {
     "name": "stdout",
     "output_type": "stream",
     "text": [
      "{'conversations': ['Can brain cells move? By movement I mean long distance migration (preferably within the brain only).', 'The question is relatively broad and one should take into account that the brain not only consists of neurons, but also glial cells (supportive cells) and pre-mitotic neuronal stem cells. Furthermore, as critical fellow-scientists have indicated, developmental stage is very important, as the developing embryonic brain is very different from the adult brain.\\nHowever, after sifting through various publications, the answer to the question is actually remarkably simple: Yes, brain cells migrate.\\nIn  the adult brain glial cells migrate in the brain (Klämbt, 2009). Glial cells are involved in a myriad of functions, but a notable example of migrating glial cells are the oligodendrocytes that migrate relative long distances to find their target axons onto which they wrap themselves to form the insulating myelin sheath (Tsai and Miller, 2002).\\nNeuronal stem cells migrate over long distances in response to injury (Imitola et al., 2004) and they migrate from specific stem-cell locations (e.g., hippocampus and subventricular zone) to other regions (Clarke, 2003).\\nPost-mitotic, but non-differentiated neurons have been shown to migrate in the adult brain in fish (Scott et al., 2012), and in mammals and non-human primates as well (Sawada et al., 2011).\\nNot surprisingly, glial cells, stem cells and neurons also migrate during embryonic development. Most notably, post-mitotic neurons destined to fulfill peripheral functions have to migrate over relatively long distances from the neural crest to their target locations (Neuroscience, 2nd ed, Neuronal Migration).'], 'source': 'stackexchange'}\n"
     ]
    }
   ],
   "source": [
    "lima_train = lima[\"train\"]\n",
    "print(lima_train[0])"
   ]
  },
  {
   "cell_type": "code",
   "execution_count": null,
   "metadata": {},
   "outputs": [],
   "source": [
    "datasets.Dataset.from_list"
   ]
  }
 ],
 "metadata": {
  "kernelspec": {
   "display_name": "Python 3",
   "language": "python",
   "name": "python3"
  },
  "language_info": {
   "codemirror_mode": {
    "name": "ipython",
    "version": 3
   },
   "file_extension": ".py",
   "mimetype": "text/x-python",
   "name": "python",
   "nbconvert_exporter": "python",
   "pygments_lexer": "ipython3",
   "version": "3.10.16"
  }
 },
 "nbformat": 4,
 "nbformat_minor": 2
}
