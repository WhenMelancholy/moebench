{
 "cells": [
  {
   "cell_type": "code",
   "execution_count": 1,
   "metadata": {},
   "outputs": [],
   "source": [
    "import os\n",
    "import datasets\n",
    "from tqdm.auto import tqdm\n",
    "\n",
    "import pandas as pd\n",
    "\n",
    "os.chdir(\"/n/home08/zkong/mufan/tmp/moebench\")"
   ]
  },
  {
   "cell_type": "code",
   "execution_count": 2,
   "metadata": {},
   "outputs": [],
   "source": [
    "import json\n",
    "\n",
    "train_data = []\n",
    "train_jsonl = (\n",
    "    \"key/llama-cookbook/data/lima/within_participant_within_sentence_train.jsonl\"\n",
    ")\n",
    "with open(train_jsonl, \"r\") as f:\n",
    "    for line in f:\n",
    "        train_data.append(json.loads(line))\n",
    "\n",
    "test_data = []\n",
    "test_jsonl = (\n",
    "    \"key/llama-cookbook/data/lima/across_participant_across_sentence_test.jsonl\"\n",
    ")\n",
    "with open(test_jsonl, \"r\") as f:\n",
    "    for line in f:\n",
    "        test_data.append(json.loads(line))"
   ]
  },
  {
   "cell_type": "code",
   "execution_count": 3,
   "metadata": {},
   "outputs": [
    {
     "data": {
      "application/vnd.jupyter.widget-view+json": {
       "model_id": "7d0622e3f9614466a3371923789da407",
       "version_major": 2,
       "version_minor": 0
      },
      "text/plain": [
       "Processing items_train:   0%|          | 0/1653803 [00:00<?, ?it/s]"
      ]
     },
     "metadata": {},
     "output_type": "display_data"
    },
    {
     "name": "stdout",
     "output_type": "stream",
     "text": [
      "{'input': '226 1023 150 328 158 169 205 195 235 99 130 691 258 224 175 184 264 332 491 261 217 170 254 306 279 161 277 215 157 185 170 172 151 147 197 169 181 683 150 119 463', 'output': 'We just pulled schedules form the web.', 'participant_id': 146488.0, 'test_section_id': 1593068, 'sentence_id': 0, 'conversations': ['Translate the Time intervals to Keystrokes.\\nTime intervals: 172 199 235 173 286 191 211 224 756 177 176 488 334 240 135 241 218 625 200 205 190 180 860', 'Not even n yet.', 'Translate the Time intervals to Keystrokes.\\nTime intervals: 809 229 1023 449 204 166 537 719 771 1023 228 185 164 172 252 207 236 173 219 185 156 193 167 221 167 172 343 192 338', \"That's a lot of dollars.\", 'Translate the Time intervals to Keystrokes.\\nTime intervals: 1023 165 233 818 190 179 176 165 456 352 185 433 268 201 166 219 211 273 317 230 351', \"don't forget thw ood.\", 'Translate the Time intervals to Keystrokes.\\nTime intervals: 406 186 310 206 168 230 1023 526 217 224 278 234 204 193 160 156 148 274 150 251 183 162 180 98 250 215 193 623 197 378 252 190 320 129 160 215 160 155 233 293 203 665', \"I haven't really done any studying for it.\", 'Translate the Time intervals to Keystrokes.\\nTime intervals: 285 308 253 350 317 202 694 161 147 98 240 198 206 185 492 319 168 123 280 197 186 215 137 329 229 214 230 917 167 617 189 160 358 300', 'Could yoou see where this stands?', 'Translate the Time intervals to Keystrokes.\\nTime intervals: 172 192 137 160 235 224 218 445 169 169 205 233 158 348 231 160 254 194 200 173 264 208 635 203 264 193 1023 222 230 136 208 166 184 173 170 263 217 154 229', 'I wish he would leave Deerfield alone.', 'Translate the Time intervals to Keystrokes.\\nTime intervals: 196 158 171 337 189 189 155 243 141 191 206 115 198 161 153 307 149 234 227 201 226 147 239 307 201 954 207 157 265 150 345 171 175 578', 'I hopw this answers your question.', 'Translate the Time intervals to Keystrokes.\\nTime intervals: 477 243 209 193 208 148 117 613 131 256 225 538 274 268 130 219 221 141 191 253 168 143 207 153 374 135 219 195 424 201 281 266 114 360 199 178 217 396', 'Let me know if you have any questions.', 'Translate the Time intervals to Keystrokes.\\nTime intervals: 400 201 133 145 171 192 214 266 183 133 241 103 203 207 194 235 278 197 169 145 199 211 305 133 251 168 173 144 160 110 489 188 476', 'We are waiting on the cold front.', 'Translate the Time intervals to Keystrokes.\\nTime intervals: 493 216 242 256 328 521 176 255 181 259 690 337 716 172 141 265 258 327 201 175 188 212 164 482 158 205 159 180 223 146 345 140 166 316 186 201 173 168 204 357 164 390 157 274 159 261 266 316 195 173 90 281 165 312 184 165 221 515', 'but he vows to support any drivers who support the pcers.', 'Translate the Time intervals to Keystrokes.\\nTime intervals: 281 315 196 282 232 990 1023 868 158 185 404 196 212 177 169 168 184 196 387 199 423 186 158 229 240 271 202 397 355 525', \"Coukldn't risk the uncertainty.\", 'Translate the Time intervals to Keystrokes.\\nTime intervals: 306 220 199 371 1023 372 254 206 586 459 257 181 185 524 212 258 159 206 850 204 151 218 240 190 184 423 275 244 144 162 249 261 181 179 140 237 173 180 176 184 212 117 212 175 197 195 235 158 161 549', \"Bob, I'll take Oakland as my winner this week.\", 'Translate the Time intervals to Keystrokes.\\nTime intervals: 297 181 1023 172 190 230 285 441 311 272 234 208 393 207 133 305 629 235 162 301 215 237 140 139 219 215 162 399', 'Please send to Gary Smith.', 'Translate the Time intervals to Keystrokes.\\nTime intervals: 211 190 181 81 417 612 252 302 274 207 179 202 222 438 588 309 193 163 216 85 227 188 226 167 726', 'I do not want to repeat.', 'Translate the Time intervals to Keystrokes.\\nTime intervals: 226 1023 150 328 158 169 205 195 235 99 130 691 258 224 175 184 264 332 491 261 217 170 254 306 279 161 277 215 157 185 170 172 151 147 197 169 181 683 150 119 463', 'We just pulled schedules form the web.'], 'messages': [{'role': 'user', 'content': 'Translate the Time intervals to Keystrokes.\\nTime intervals: 172 199 235 173 286 191 211 224 756 177 176 488 334 240 135 241 218 625 200 205 190 180 860'}, {'role': 'assistant', 'content': 'Not even n yet.'}, {'role': 'user', 'content': 'Translate the Time intervals to Keystrokes.\\nTime intervals: 809 229 1023 449 204 166 537 719 771 1023 228 185 164 172 252 207 236 173 219 185 156 193 167 221 167 172 343 192 338'}, {'role': 'assistant', 'content': \"That's a lot of dollars.\"}, {'role': 'user', 'content': 'Translate the Time intervals to Keystrokes.\\nTime intervals: 1023 165 233 818 190 179 176 165 456 352 185 433 268 201 166 219 211 273 317 230 351'}, {'role': 'assistant', 'content': \"don't forget thw ood.\"}, {'role': 'user', 'content': 'Translate the Time intervals to Keystrokes.\\nTime intervals: 406 186 310 206 168 230 1023 526 217 224 278 234 204 193 160 156 148 274 150 251 183 162 180 98 250 215 193 623 197 378 252 190 320 129 160 215 160 155 233 293 203 665'}, {'role': 'assistant', 'content': \"I haven't really done any studying for it.\"}, {'role': 'user', 'content': 'Translate the Time intervals to Keystrokes.\\nTime intervals: 285 308 253 350 317 202 694 161 147 98 240 198 206 185 492 319 168 123 280 197 186 215 137 329 229 214 230 917 167 617 189 160 358 300'}, {'role': 'assistant', 'content': 'Could yoou see where this stands?'}, {'role': 'user', 'content': 'Translate the Time intervals to Keystrokes.\\nTime intervals: 172 192 137 160 235 224 218 445 169 169 205 233 158 348 231 160 254 194 200 173 264 208 635 203 264 193 1023 222 230 136 208 166 184 173 170 263 217 154 229'}, {'role': 'assistant', 'content': 'I wish he would leave Deerfield alone.'}, {'role': 'user', 'content': 'Translate the Time intervals to Keystrokes.\\nTime intervals: 196 158 171 337 189 189 155 243 141 191 206 115 198 161 153 307 149 234 227 201 226 147 239 307 201 954 207 157 265 150 345 171 175 578'}, {'role': 'assistant', 'content': 'I hopw this answers your question.'}, {'role': 'user', 'content': 'Translate the Time intervals to Keystrokes.\\nTime intervals: 477 243 209 193 208 148 117 613 131 256 225 538 274 268 130 219 221 141 191 253 168 143 207 153 374 135 219 195 424 201 281 266 114 360 199 178 217 396'}, {'role': 'assistant', 'content': 'Let me know if you have any questions.'}, {'role': 'user', 'content': 'Translate the Time intervals to Keystrokes.\\nTime intervals: 400 201 133 145 171 192 214 266 183 133 241 103 203 207 194 235 278 197 169 145 199 211 305 133 251 168 173 144 160 110 489 188 476'}, {'role': 'assistant', 'content': 'We are waiting on the cold front.'}, {'role': 'user', 'content': 'Translate the Time intervals to Keystrokes.\\nTime intervals: 493 216 242 256 328 521 176 255 181 259 690 337 716 172 141 265 258 327 201 175 188 212 164 482 158 205 159 180 223 146 345 140 166 316 186 201 173 168 204 357 164 390 157 274 159 261 266 316 195 173 90 281 165 312 184 165 221 515'}, {'role': 'assistant', 'content': 'but he vows to support any drivers who support the pcers.'}, {'role': 'user', 'content': 'Translate the Time intervals to Keystrokes.\\nTime intervals: 281 315 196 282 232 990 1023 868 158 185 404 196 212 177 169 168 184 196 387 199 423 186 158 229 240 271 202 397 355 525'}, {'role': 'assistant', 'content': \"Coukldn't risk the uncertainty.\"}, {'role': 'user', 'content': 'Translate the Time intervals to Keystrokes.\\nTime intervals: 306 220 199 371 1023 372 254 206 586 459 257 181 185 524 212 258 159 206 850 204 151 218 240 190 184 423 275 244 144 162 249 261 181 179 140 237 173 180 176 184 212 117 212 175 197 195 235 158 161 549'}, {'role': 'assistant', 'content': \"Bob, I'll take Oakland as my winner this week.\"}, {'role': 'user', 'content': 'Translate the Time intervals to Keystrokes.\\nTime intervals: 297 181 1023 172 190 230 285 441 311 272 234 208 393 207 133 305 629 235 162 301 215 237 140 139 219 215 162 399'}, {'role': 'assistant', 'content': 'Please send to Gary Smith.'}, {'role': 'user', 'content': 'Translate the Time intervals to Keystrokes.\\nTime intervals: 211 190 181 81 417 612 252 302 274 207 179 202 222 438 588 309 193 163 216 85 227 188 226 167 726'}, {'role': 'assistant', 'content': 'I do not want to repeat.'}, {'role': 'user', 'content': 'Translate the Time intervals to Keystrokes.\\nTime intervals: 226 1023 150 328 158 169 205 195 235 99 130 691 258 224 175 184 264 332 491 261 217 170 254 306 279 161 277 215 157 185 170 172 151 147 197 169 181 683 150 119 463'}, {'role': 'assistant', 'content': 'We just pulled schedules form the web.'}]}\n"
     ]
    },
    {
     "data": {
      "application/vnd.jupyter.widget-view+json": {
       "model_id": "084b47bf9aaf4a8d892f8aa293c916e9",
       "version_major": 2,
       "version_minor": 0
      },
      "text/plain": [
       "Processing items_test:   0%|          | 0/10481 [00:00<?, ?it/s]"
      ]
     },
     "metadata": {},
     "output_type": "display_data"
    },
    {
     "name": "stdout",
     "output_type": "stream",
     "text": [
      "{'input': '417 172 228 213 293 154 154 154 681 104 176 1023 104 179 1023 202 338 145 129 108 413 144 293 626 206 152 971 332 186 808 171 777 433 221 212 148 340 632 168 165 468 208 156 220 553 1023', 'output': 'Can you rough out a slide on rating sgencies?', 'participant_id': 36799.0, 'test_section_id': 399509, 'sentence_id': 220, 'conversations': ['Translate the Time intervals to Keystrokes.\\nTime intervals: 196 388 373 499 324 232 190 247 836 385 167 239 101 115 100 634 108 541 200 179 408 164 502 153 158 583 189 169 509 172 246 421 152 325 177 344 230 847 902 160 306 343 482 746 154 284 294 443 445 1023 212 766 452 809 500', 'Parts of the city will be closed to private cars.', 'Translate the Time intervals to Keystrokes.\\nTime intervals: 417 172 228 213 293 154 154 154 681 104 176 1023 104 179 1023 202 338 145 129 108 413 144 293 626 206 152 971 332 186 808 171 777 433 221 212 148 340 632 168 165 468 208 156 220 553 1023', 'Can you rough out a slide on rating sgencies?'], 'messages': [{'role': 'user', 'content': 'Translate the Time intervals to Keystrokes.\\nTime intervals: 196 388 373 499 324 232 190 247 836 385 167 239 101 115 100 634 108 541 200 179 408 164 502 153 158 583 189 169 509 172 246 421 152 325 177 344 230 847 902 160 306 343 482 746 154 284 294 443 445 1023 212 766 452 809 500'}, {'role': 'assistant', 'content': 'Parts of the city will be closed to private cars.'}, {'role': 'user', 'content': 'Translate the Time intervals to Keystrokes.\\nTime intervals: 417 172 228 213 293 154 154 154 681 104 176 1023 104 179 1023 202 338 145 129 108 413 144 293 626 206 152 971 332 186 808 171 777 433 221 212 148 340 632 168 165 468 208 156 220 553 1023'}, {'role': 'assistant', 'content': 'Can you rough out a slide on rating sgencies?'}]}\n",
      "Number of training items: 1653803\n",
      "Number of test items: 10481\n",
      "DatasetDict({\n",
      "    train: Dataset({\n",
      "        features: ['input', 'output', 'participant_id', 'test_section_id', 'sentence_id', 'conversations', 'messages'],\n",
      "        num_rows: 1653803\n",
      "    })\n",
      "    test: Dataset({\n",
      "        features: ['input', 'output', 'participant_id', 'test_section_id', 'sentence_id', 'conversations', 'messages'],\n",
      "        num_rows: 10481\n",
      "    })\n",
      "})\n"
     ]
    }
   ],
   "source": [
    "items_train = []\n",
    "for item in tqdm(train_data, desc=\"Processing items_train\"):\n",
    "    messages = []\n",
    "    roles = [\"user\", \"assistant\"]\n",
    "    for index, message in enumerate(item[\"conversations\"]):\n",
    "        messages.append({\"role\": roles[index % 2], \"content\": message})\n",
    "    item[\"messages\"] = messages\n",
    "    items_train.append(item)\n",
    "print(items_train[0])\n",
    "\n",
    "items_test = []\n",
    "for item in tqdm(test_data, desc=\"Processing items_test\"):\n",
    "    messages = []\n",
    "    roles = [\"user\", \"assistant\"]\n",
    "    for index, message in enumerate(item[\"conversations\"]):\n",
    "        messages.append({\"role\": roles[index % 2], \"content\": message})\n",
    "    item[\"messages\"] = messages\n",
    "    items_test.append(item)\n",
    "print(items_test[0])\n",
    "\n",
    "\n",
    "print(f\"Number of training items: {len(items_train)}\")\n",
    "print(f\"Number of test items: {len(items_test)}\")\n",
    "\n",
    "dataset_train = datasets.Dataset.from_list(items_train)\n",
    "dataset_test = datasets.Dataset.from_list(items_test)\n",
    "dataset = datasets.DatasetDict({\"train\": dataset_train, \"test\": dataset_test})\n",
    "print(dataset)"
   ]
  },
  {
   "cell_type": "code",
   "execution_count": 4,
   "metadata": {},
   "outputs": [
    {
     "data": {
      "application/vnd.jupyter.widget-view+json": {
       "model_id": "27384316dd804964a5ab40c773b90f42",
       "version_major": 2,
       "version_minor": 0
      },
      "text/plain": [
       "Saving the dataset (0/26 shards):   0%|          | 0/1653803 [00:00<?, ? examples/s]"
      ]
     },
     "metadata": {},
     "output_type": "display_data"
    },
    {
     "data": {
      "application/vnd.jupyter.widget-view+json": {
       "model_id": "78f5cde3100a4f0692f808c6407bb5e9",
       "version_major": 2,
       "version_minor": 0
      },
      "text/plain": [
       "Saving the dataset (0/1 shards):   0%|          | 0/10481 [00:00<?, ? examples/s]"
      ]
     },
     "metadata": {},
     "output_type": "display_data"
    }
   ],
   "source": [
    "dataset.save_to_disk(\"open-instruct/data/key_olmoe\")"
   ]
  },
  {
   "cell_type": "code",
   "execution_count": 5,
   "metadata": {},
   "outputs": [
    {
     "name": "stdout",
     "output_type": "stream",
     "text": [
      "DatasetDict({\n",
      "    train: Dataset({\n",
      "        features: ['input', 'output', 'participant_id', 'test_section_id', 'sentence_id', 'conversations', 'messages'],\n",
      "        num_rows: 1653803\n",
      "    })\n",
      "    test: Dataset({\n",
      "        features: ['input', 'output', 'participant_id', 'test_section_id', 'sentence_id', 'conversations', 'messages'],\n",
      "        num_rows: 10481\n",
      "    })\n",
      "})\n"
     ]
    }
   ],
   "source": [
    "print(dataset)"
   ]
  },
  {
   "cell_type": "code",
   "execution_count": 6,
   "metadata": {},
   "outputs": [
    {
     "data": {
      "application/vnd.jupyter.widget-view+json": {
       "model_id": "574a2672fee2456eb23188ffeb016f07",
       "version_major": 2,
       "version_minor": 0
      },
      "text/plain": [
       "Uploading the dataset shards:   0%|          | 0/26 [00:00<?, ?it/s]"
      ]
     },
     "metadata": {},
     "output_type": "display_data"
    },
    {
     "data": {
      "application/vnd.jupyter.widget-view+json": {
       "model_id": "a19af0db2b1b4c909ae87bbabb094d5d",
       "version_major": 2,
       "version_minor": 0
      },
      "text/plain": [
       "Creating parquet from Arrow format:   0%|          | 0/64 [00:00<?, ?ba/s]"
      ]
     },
     "metadata": {},
     "output_type": "display_data"
    },
    {
     "data": {
      "application/vnd.jupyter.widget-view+json": {
       "model_id": "658371279bde4a19a6c5dcb14c82692e",
       "version_major": 2,
       "version_minor": 0
      },
      "text/plain": [
       "Creating parquet from Arrow format:   0%|          | 0/64 [00:00<?, ?ba/s]"
      ]
     },
     "metadata": {},
     "output_type": "display_data"
    },
    {
     "data": {
      "application/vnd.jupyter.widget-view+json": {
       "model_id": "1991f6208f0747628386f48465137bcf",
       "version_major": 2,
       "version_minor": 0
      },
      "text/plain": [
       "Creating parquet from Arrow format:   0%|          | 0/64 [00:00<?, ?ba/s]"
      ]
     },
     "metadata": {},
     "output_type": "display_data"
    },
    {
     "data": {
      "application/vnd.jupyter.widget-view+json": {
       "model_id": "5fcbc67ce04344de92bbacb200986c02",
       "version_major": 2,
       "version_minor": 0
      },
      "text/plain": [
       "Creating parquet from Arrow format:   0%|          | 0/64 [00:00<?, ?ba/s]"
      ]
     },
     "metadata": {},
     "output_type": "display_data"
    },
    {
     "data": {
      "application/vnd.jupyter.widget-view+json": {
       "model_id": "61bd763926eb4108944b19084fbbe508",
       "version_major": 2,
       "version_minor": 0
      },
      "text/plain": [
       "Creating parquet from Arrow format:   0%|          | 0/64 [00:00<?, ?ba/s]"
      ]
     },
     "metadata": {},
     "output_type": "display_data"
    },
    {
     "data": {
      "application/vnd.jupyter.widget-view+json": {
       "model_id": "aacb04de19ff41c7bd40db9462876a05",
       "version_major": 2,
       "version_minor": 0
      },
      "text/plain": [
       "Creating parquet from Arrow format:   0%|          | 0/64 [00:00<?, ?ba/s]"
      ]
     },
     "metadata": {},
     "output_type": "display_data"
    },
    {
     "data": {
      "application/vnd.jupyter.widget-view+json": {
       "model_id": "eb33cb1ebd874a829dc264f70c3df828",
       "version_major": 2,
       "version_minor": 0
      },
      "text/plain": [
       "Creating parquet from Arrow format:   0%|          | 0/64 [00:00<?, ?ba/s]"
      ]
     },
     "metadata": {},
     "output_type": "display_data"
    },
    {
     "data": {
      "application/vnd.jupyter.widget-view+json": {
       "model_id": "c9105f5f016043888a31bf928590662b",
       "version_major": 2,
       "version_minor": 0
      },
      "text/plain": [
       "Creating parquet from Arrow format:   0%|          | 0/64 [00:00<?, ?ba/s]"
      ]
     },
     "metadata": {},
     "output_type": "display_data"
    },
    {
     "data": {
      "application/vnd.jupyter.widget-view+json": {
       "model_id": "718c371485354994adef5db8b016b4d4",
       "version_major": 2,
       "version_minor": 0
      },
      "text/plain": [
       "Creating parquet from Arrow format:   0%|          | 0/64 [00:00<?, ?ba/s]"
      ]
     },
     "metadata": {},
     "output_type": "display_data"
    },
    {
     "data": {
      "application/vnd.jupyter.widget-view+json": {
       "model_id": "504531bb53d343568640b33c43d65988",
       "version_major": 2,
       "version_minor": 0
      },
      "text/plain": [
       "Creating parquet from Arrow format:   0%|          | 0/64 [00:00<?, ?ba/s]"
      ]
     },
     "metadata": {},
     "output_type": "display_data"
    },
    {
     "data": {
      "application/vnd.jupyter.widget-view+json": {
       "model_id": "3927b82588fe482595ea67ef977768db",
       "version_major": 2,
       "version_minor": 0
      },
      "text/plain": [
       "Creating parquet from Arrow format:   0%|          | 0/64 [00:00<?, ?ba/s]"
      ]
     },
     "metadata": {},
     "output_type": "display_data"
    },
    {
     "data": {
      "application/vnd.jupyter.widget-view+json": {
       "model_id": "5eefb16e65834c1f81fc436010284b67",
       "version_major": 2,
       "version_minor": 0
      },
      "text/plain": [
       "Creating parquet from Arrow format:   0%|          | 0/64 [00:00<?, ?ba/s]"
      ]
     },
     "metadata": {},
     "output_type": "display_data"
    },
    {
     "data": {
      "application/vnd.jupyter.widget-view+json": {
       "model_id": "fdae01047b0445eea8410cd9129350a3",
       "version_major": 2,
       "version_minor": 0
      },
      "text/plain": [
       "Creating parquet from Arrow format:   0%|          | 0/64 [00:00<?, ?ba/s]"
      ]
     },
     "metadata": {},
     "output_type": "display_data"
    },
    {
     "data": {
      "application/vnd.jupyter.widget-view+json": {
       "model_id": "79e19af7dabf434eaacd5c9bfe669c6a",
       "version_major": 2,
       "version_minor": 0
      },
      "text/plain": [
       "Creating parquet from Arrow format:   0%|          | 0/64 [00:00<?, ?ba/s]"
      ]
     },
     "metadata": {},
     "output_type": "display_data"
    },
    {
     "data": {
      "application/vnd.jupyter.widget-view+json": {
       "model_id": "d506b00ff2934405b61e6e3f6d81fdb3",
       "version_major": 2,
       "version_minor": 0
      },
      "text/plain": [
       "Creating parquet from Arrow format:   0%|          | 0/64 [00:00<?, ?ba/s]"
      ]
     },
     "metadata": {},
     "output_type": "display_data"
    },
    {
     "data": {
      "application/vnd.jupyter.widget-view+json": {
       "model_id": "e1c13d40b8d54d8b91536f4ce7b9cf1b",
       "version_major": 2,
       "version_minor": 0
      },
      "text/plain": [
       "Creating parquet from Arrow format:   0%|          | 0/64 [00:00<?, ?ba/s]"
      ]
     },
     "metadata": {},
     "output_type": "display_data"
    },
    {
     "data": {
      "application/vnd.jupyter.widget-view+json": {
       "model_id": "30c162e379a64fac84c2ddf93602727a",
       "version_major": 2,
       "version_minor": 0
      },
      "text/plain": [
       "Creating parquet from Arrow format:   0%|          | 0/64 [00:00<?, ?ba/s]"
      ]
     },
     "metadata": {},
     "output_type": "display_data"
    },
    {
     "data": {
      "application/vnd.jupyter.widget-view+json": {
       "model_id": "b5ed6b131f64453383695b0003bfcb18",
       "version_major": 2,
       "version_minor": 0
      },
      "text/plain": [
       "Creating parquet from Arrow format:   0%|          | 0/64 [00:00<?, ?ba/s]"
      ]
     },
     "metadata": {},
     "output_type": "display_data"
    },
    {
     "data": {
      "application/vnd.jupyter.widget-view+json": {
       "model_id": "d48bc13643674905b8fc6a41637d1e5c",
       "version_major": 2,
       "version_minor": 0
      },
      "text/plain": [
       "Creating parquet from Arrow format:   0%|          | 0/64 [00:00<?, ?ba/s]"
      ]
     },
     "metadata": {},
     "output_type": "display_data"
    },
    {
     "data": {
      "application/vnd.jupyter.widget-view+json": {
       "model_id": "99b3c3ab65ff4062813465d594ac2a5b",
       "version_major": 2,
       "version_minor": 0
      },
      "text/plain": [
       "Creating parquet from Arrow format:   0%|          | 0/64 [00:00<?, ?ba/s]"
      ]
     },
     "metadata": {},
     "output_type": "display_data"
    },
    {
     "data": {
      "application/vnd.jupyter.widget-view+json": {
       "model_id": "a99185fef9a74fc186b3faaede214353",
       "version_major": 2,
       "version_minor": 0
      },
      "text/plain": [
       "Creating parquet from Arrow format:   0%|          | 0/64 [00:00<?, ?ba/s]"
      ]
     },
     "metadata": {},
     "output_type": "display_data"
    },
    {
     "data": {
      "application/vnd.jupyter.widget-view+json": {
       "model_id": "4dfeef99a0514366bde8b6d3c8da6a58",
       "version_major": 2,
       "version_minor": 0
      },
      "text/plain": [
       "Creating parquet from Arrow format:   0%|          | 0/64 [00:00<?, ?ba/s]"
      ]
     },
     "metadata": {},
     "output_type": "display_data"
    },
    {
     "data": {
      "application/vnd.jupyter.widget-view+json": {
       "model_id": "675c5eabb8f14132aa69a1085ae343bf",
       "version_major": 2,
       "version_minor": 0
      },
      "text/plain": [
       "Creating parquet from Arrow format:   0%|          | 0/64 [00:00<?, ?ba/s]"
      ]
     },
     "metadata": {},
     "output_type": "display_data"
    },
    {
     "data": {
      "application/vnd.jupyter.widget-view+json": {
       "model_id": "a77a0c8dcc4448e2afcab584be0fce17",
       "version_major": 2,
       "version_minor": 0
      },
      "text/plain": [
       "Creating parquet from Arrow format:   0%|          | 0/64 [00:00<?, ?ba/s]"
      ]
     },
     "metadata": {},
     "output_type": "display_data"
    },
    {
     "data": {
      "application/vnd.jupyter.widget-view+json": {
       "model_id": "089042c1769945dca785ffd0d0cc7342",
       "version_major": 2,
       "version_minor": 0
      },
      "text/plain": [
       "Creating parquet from Arrow format:   0%|          | 0/64 [00:00<?, ?ba/s]"
      ]
     },
     "metadata": {},
     "output_type": "display_data"
    },
    {
     "data": {
      "application/vnd.jupyter.widget-view+json": {
       "model_id": "623e75c2e5e74f61843950522d942492",
       "version_major": 2,
       "version_minor": 0
      },
      "text/plain": [
       "Creating parquet from Arrow format:   0%|          | 0/64 [00:00<?, ?ba/s]"
      ]
     },
     "metadata": {},
     "output_type": "display_data"
    },
    {
     "data": {
      "application/vnd.jupyter.widget-view+json": {
       "model_id": "54fd64a4b6e442ecbe6bb0dd41e88401",
       "version_major": 2,
       "version_minor": 0
      },
      "text/plain": [
       "Uploading the dataset shards:   0%|          | 0/1 [00:00<?, ?it/s]"
      ]
     },
     "metadata": {},
     "output_type": "display_data"
    },
    {
     "data": {
      "application/vnd.jupyter.widget-view+json": {
       "model_id": "bef585cdb8214103b3a11c62d0857687",
       "version_major": 2,
       "version_minor": 0
      },
      "text/plain": [
       "Creating parquet from Arrow format:   0%|          | 0/11 [00:00<?, ?ba/s]"
      ]
     },
     "metadata": {},
     "output_type": "display_data"
    },
    {
     "data": {
      "text/plain": [
       "CommitInfo(commit_url='https://huggingface.co/datasets/WhenceFade/key_olmoe/commit/c1aa41bbc5310f3e857d489ead9e84f59b912561', commit_message='Upload dataset', commit_description='', oid='c1aa41bbc5310f3e857d489ead9e84f59b912561', pr_url=None, repo_url=RepoUrl('https://huggingface.co/datasets/WhenceFade/key_olmoe', endpoint='https://huggingface.co', repo_type='dataset', repo_id='WhenceFade/key_olmoe'), pr_revision=None, pr_num=None)"
      ]
     },
     "execution_count": 6,
     "metadata": {},
     "output_type": "execute_result"
    }
   ],
   "source": [
    "dataset.push_to_hub(\"WhenceFade/key_olmoe\")"
   ]
  },
  {
   "cell_type": "code",
   "execution_count": null,
   "metadata": {},
   "outputs": [
    {
     "name": "stdout",
     "output_type": "stream",
     "text": [
      "Dataset({\n",
      "    features: ['messages'],\n",
      "    num_rows: 1330\n",
      "})\n"
     ]
    }
   ],
   "source": [
    "disk_dataset = datasets.load_from_disk(\"open-instruct/data/key_olmoe\")\n",
    "print(disk_dataset)"
   ]
  }
 ],
 "metadata": {
  "kernelspec": {
   "display_name": "Python 3",
   "language": "python",
   "name": "python3"
  },
  "language_info": {
   "codemirror_mode": {
    "name": "ipython",
    "version": 3
   },
   "file_extension": ".py",
   "mimetype": "text/x-python",
   "name": "python",
   "nbconvert_exporter": "python",
   "pygments_lexer": "ipython3",
   "version": "3.10.16"
  }
 },
 "nbformat": 4,
 "nbformat_minor": 2
}
