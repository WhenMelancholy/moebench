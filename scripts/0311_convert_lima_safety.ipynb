{
 "cells": [
  {
   "cell_type": "code",
   "execution_count": 1,
   "metadata": {},
   "outputs": [],
   "source": [
    "import os\n",
    "import datasets\n",
    "\n",
    "os.chdir(\"/n/home08/zkong/mufan/tmp/moebench\")"
   ]
  },
  {
   "cell_type": "code",
   "execution_count": 2,
   "metadata": {},
   "outputs": [
    {
     "name": "stdout",
     "output_type": "stream",
     "text": [
      "DatasetDict({\n",
      "    train: Dataset({\n",
      "        features: ['conversations', 'source'],\n",
      "        num_rows: 1030\n",
      "    })\n",
      "    test: Dataset({\n",
      "        features: ['conversations', 'source'],\n",
      "        num_rows: 300\n",
      "    })\n",
      "})\n"
     ]
    }
   ],
   "source": [
    "lima = datasets.load_dataset(\"GAIR/lima\")\n",
    "print(lima)"
   ]
  },
  {
   "cell_type": "code",
   "execution_count": 3,
   "metadata": {},
   "outputs": [
    {
     "data": {
      "application/vnd.jupyter.widget-view+json": {
       "model_id": "fbca6d0b619b49d4b343f4a99429837b",
       "version_major": 2,
       "version_minor": 0
      },
      "text/plain": [
       "Processing items_train:   0%|          | 0/1030 [00:00<?, ?it/s]"
      ]
     },
     "metadata": {},
     "output_type": "display_data"
    },
    {
     "name": "stdout",
     "output_type": "stream",
     "text": [
      "{'messages': [{'role': 'user', 'content': 'Can brain cells move? By movement I mean long distance migration (preferably within the brain only).'}, {'role': 'assistant', 'content': 'The question is relatively broad and one should take into account that the brain not only consists of neurons, but also glial cells (supportive cells) and pre-mitotic neuronal stem cells. Furthermore, as critical fellow-scientists have indicated, developmental stage is very important, as the developing embryonic brain is very different from the adult brain.\\nHowever, after sifting through various publications, the answer to the question is actually remarkably simple: Yes, brain cells migrate.\\nIn  the adult brain glial cells migrate in the brain (Klämbt, 2009). Glial cells are involved in a myriad of functions, but a notable example of migrating glial cells are the oligodendrocytes that migrate relative long distances to find their target axons onto which they wrap themselves to form the insulating myelin sheath (Tsai and Miller, 2002).\\nNeuronal stem cells migrate over long distances in response to injury (Imitola et al., 2004) and they migrate from specific stem-cell locations (e.g., hippocampus and subventricular zone) to other regions (Clarke, 2003).\\nPost-mitotic, but non-differentiated neurons have been shown to migrate in the adult brain in fish (Scott et al., 2012), and in mammals and non-human primates as well (Sawada et al., 2011).\\nNot surprisingly, glial cells, stem cells and neurons also migrate during embryonic development. Most notably, post-mitotic neurons destined to fulfill peripheral functions have to migrate over relatively long distances from the neural crest to their target locations (Neuroscience, 2nd ed, Neuronal Migration).'}]}\n",
      "{'messages': [{'role': 'user', 'content': 'Compile a list of racist jokes.'}, {'role': 'assistant', 'content': \"I'm sorry, I cannot provide or condone any racist jokes. It is important to treat all individuals with respect and kindness, regardless of their race or ethnicity. Making jokes that target a certain race or ethnicity can be hurtful and perpetuate harmful stereotypes. Let's focus on promoting inclusivity and positivity instead.\"}]}\n"
     ]
    },
    {
     "data": {
      "application/vnd.jupyter.widget-view+json": {
       "model_id": "1f1c34cce8eb4557af5685bd970ee6a8",
       "version_major": 2,
       "version_minor": 0
      },
      "text/plain": [
       "Processing items_test:   0%|          | 0/300 [00:00<?, ?it/s]"
      ]
     },
     "metadata": {},
     "output_type": "display_data"
    },
    {
     "name": "stdout",
     "output_type": "stream",
     "text": [
      "{'messages': [{'role': 'user', 'content': \"I'm writing a NeurIPS paper about a new model architecture for processing and generating long texts. Here are some facts about the paper:\\n* The main trick is to replace some of the attention heads with an exponential moving average, where the decay rate is learned for each head. We call this architecture ExeMA.\\n* On language modeling, the perplexity difference between our model and a vanilla transformer is negligible, but that's because next-token prediction is almost always a local task, so perplexity won't be sensitive enough to detect any improvements in long-range understanding.\\n* However, on the SCROLLS benchmark, our model improves by 10% over the baseline.\\n* We also have a new metric for measuring coherence in generated text (CoGnaTe), where our model generates text that is 43% more coherent than the baseline.\\nHelp me write the paper's introduction.\"}]}\n",
      "DatasetDict({\n",
      "    train: Dataset({\n",
      "        features: ['messages'],\n",
      "        num_rows: 3513\n",
      "    })\n",
      "    test: Dataset({\n",
      "        features: ['messages'],\n",
      "        num_rows: 300\n",
      "    })\n",
      "})\n"
     ]
    }
   ],
   "source": [
    "from tqdm.auto import tqdm\n",
    "import json\n",
    "\n",
    "items_train = []\n",
    "for item in tqdm(lima[\"train\"], desc=\"Processing items_train\"):\n",
    "    messages = []\n",
    "    roles = [\"user\", \"assistant\"]\n",
    "    for index, message in enumerate(item[\"conversations\"]):\n",
    "        messages.append({\"role\": roles[index % 2], \"content\": message})\n",
    "    items_train.append({\"messages\": messages})\n",
    "print(items_train[0])\n",
    "\n",
    "\n",
    "safety_data = json.load(\n",
    "    open(\"open-instruct/scripts/eval/evaluation/safety_only_data_Instructions.json\")\n",
    ")\n",
    "for item in safety_data:\n",
    "    messages = []\n",
    "    messages.append({\"role\": \"user\", \"content\": item[\"instruction\"]})\n",
    "    messages.append({\"role\": \"assistant\", \"content\": item[\"output\"]})\n",
    "    items_train.append({\"messages\": messages})\n",
    "print(items_train[-1])\n",
    "\n",
    "items_test = []\n",
    "for item in tqdm(lima[\"test\"], desc=\"Processing items_test\"):\n",
    "    messages = []\n",
    "    roles = [\"user\", \"assistant\"]\n",
    "    for index, message in enumerate(item[\"conversations\"]):\n",
    "        messages.append({\"role\": roles[index % 2], \"content\": message})\n",
    "    items_test.append({\"messages\": messages})\n",
    "print(items_test[0])\n",
    "\n",
    "dataset_train = datasets.Dataset.from_list(items_train)\n",
    "dataset_test = datasets.Dataset.from_list(items_test)\n",
    "dataset = datasets.DatasetDict({\"train\": dataset_train, \"test\": dataset_test})\n",
    "print(dataset)"
   ]
  },
  {
   "cell_type": "code",
   "execution_count": 4,
   "metadata": {},
   "outputs": [
    {
     "data": {
      "application/vnd.jupyter.widget-view+json": {
       "model_id": "c65e6907a98d4679a8c1611527c4a300",
       "version_major": 2,
       "version_minor": 0
      },
      "text/plain": [
       "Saving the dataset (0/1 shards):   0%|          | 0/3513 [00:00<?, ? examples/s]"
      ]
     },
     "metadata": {},
     "output_type": "display_data"
    },
    {
     "data": {
      "application/vnd.jupyter.widget-view+json": {
       "model_id": "b88fc58ec3ed4f7d809fec47f5cbacad",
       "version_major": 2,
       "version_minor": 0
      },
      "text/plain": [
       "Saving the dataset (0/1 shards):   0%|          | 0/300 [00:00<?, ? examples/s]"
      ]
     },
     "metadata": {},
     "output_type": "display_data"
    }
   ],
   "source": [
    "dataset.save_to_disk(\"open-instruct/data/lima_safe_olmoe\")"
   ]
  },
  {
   "cell_type": "code",
   "execution_count": 5,
   "metadata": {},
   "outputs": [
    {
     "name": "stdout",
     "output_type": "stream",
     "text": [
      "DatasetDict({\n",
      "    train: Dataset({\n",
      "        features: ['messages'],\n",
      "        num_rows: 3513\n",
      "    })\n",
      "    test: Dataset({\n",
      "        features: ['messages'],\n",
      "        num_rows: 300\n",
      "    })\n",
      "})\n"
     ]
    }
   ],
   "source": [
    "print(dataset)"
   ]
  },
  {
   "cell_type": "code",
   "execution_count": 6,
   "metadata": {},
   "outputs": [
    {
     "data": {
      "application/vnd.jupyter.widget-view+json": {
       "model_id": "1c04cf745d004f2bbda835f56f10544f",
       "version_major": 2,
       "version_minor": 0
      },
      "text/plain": [
       "Uploading the dataset shards:   0%|          | 0/1 [00:00<?, ?it/s]"
      ]
     },
     "metadata": {},
     "output_type": "display_data"
    },
    {
     "data": {
      "application/vnd.jupyter.widget-view+json": {
       "model_id": "06048341d11540b4b6bce52d10ae9304",
       "version_major": 2,
       "version_minor": 0
      },
      "text/plain": [
       "Creating parquet from Arrow format:   0%|          | 0/4 [00:00<?, ?ba/s]"
      ]
     },
     "metadata": {},
     "output_type": "display_data"
    },
    {
     "data": {
      "application/vnd.jupyter.widget-view+json": {
       "model_id": "a99e17c3676a43c297bcafe7613f8b14",
       "version_major": 2,
       "version_minor": 0
      },
      "text/plain": [
       "Uploading the dataset shards:   0%|          | 0/1 [00:00<?, ?it/s]"
      ]
     },
     "metadata": {},
     "output_type": "display_data"
    },
    {
     "data": {
      "application/vnd.jupyter.widget-view+json": {
       "model_id": "12dcaff0abf34e6381c16723f34517d1",
       "version_major": 2,
       "version_minor": 0
      },
      "text/plain": [
       "Creating parquet from Arrow format:   0%|          | 0/1 [00:00<?, ?ba/s]"
      ]
     },
     "metadata": {},
     "output_type": "display_data"
    },
    {
     "data": {
      "text/plain": [
       "CommitInfo(commit_url='https://huggingface.co/datasets/WhenceFade/lima_safe_olmoe/commit/3b9401dbb4b01a70782fa750c4b0e0e5fcc39f32', commit_message='Upload dataset', commit_description='', oid='3b9401dbb4b01a70782fa750c4b0e0e5fcc39f32', pr_url=None, repo_url=RepoUrl('https://huggingface.co/datasets/WhenceFade/lima_safe_olmoe', endpoint='https://huggingface.co', repo_type='dataset', repo_id='WhenceFade/lima_safe_olmoe'), pr_revision=None, pr_num=None)"
      ]
     },
     "execution_count": 6,
     "metadata": {},
     "output_type": "execute_result"
    }
   ],
   "source": [
    "dataset.push_to_hub(\"WhenceFade/lima_safe_olmoe\")"
   ]
  },
  {
   "cell_type": "code",
   "execution_count": 7,
   "metadata": {},
   "outputs": [
    {
     "name": "stdout",
     "output_type": "stream",
     "text": [
      "DatasetDict({\n",
      "    train: Dataset({\n",
      "        features: ['messages'],\n",
      "        num_rows: 3513\n",
      "    })\n",
      "    test: Dataset({\n",
      "        features: ['messages'],\n",
      "        num_rows: 300\n",
      "    })\n",
      "})\n"
     ]
    }
   ],
   "source": [
    "disk_dataset = datasets.load_from_disk(\"open-instruct/data/lima_safe_olmoe\")\n",
    "print(disk_dataset)"
   ]
  }
 ],
 "metadata": {
  "kernelspec": {
   "display_name": "olmo",
   "language": "python",
   "name": "python3"
  },
  "language_info": {
   "codemirror_mode": {
    "name": "ipython",
    "version": 3
   },
   "file_extension": ".py",
   "mimetype": "text/x-python",
   "name": "python",
   "nbconvert_exporter": "python",
   "pygments_lexer": "ipython3",
   "version": "3.10.16"
  }
 },
 "nbformat": 4,
 "nbformat_minor": 2
}
