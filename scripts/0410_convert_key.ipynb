{
 "cells": [
  {
   "cell_type": "code",
   "execution_count": 1,
   "metadata": {},
   "outputs": [],
   "source": [
    "import os\n",
    "import datasets\n",
    "from tqdm.auto import tqdm\n",
    "\n",
    "import pandas as pd\n",
    "\n",
    "os.chdir(\"/n/home08/zkong/mufan/tmp/moebench\")"
   ]
  },
  {
   "cell_type": "code",
   "execution_count": 2,
   "metadata": {},
   "outputs": [],
   "source": [
    "import json\n",
    "\n",
    "train_data = []\n",
    "train_jsonl = (\n",
    "    \"key/llama-cookbook/data/cache/within_participant_within_sentence_train.jsonl\"\n",
    ")\n",
    "with open(train_jsonl, \"r\") as f:\n",
    "    for line in f:\n",
    "        train_data.append(json.loads(line))\n",
    "\n",
    "test_data = []\n",
    "test_jsonl = (\n",
    "    \"key/llama-cookbook/data/cache/across_participant_across_sentence_test.jsonl\"\n",
    ")\n",
    "with open(test_jsonl, \"r\") as f:\n",
    "    for line in f:\n",
    "        test_data.append(json.loads(line))"
   ]
  },
  {
   "cell_type": "code",
   "execution_count": 3,
   "metadata": {},
   "outputs": [
    {
     "data": {
      "application/vnd.jupyter.widget-view+json": {
       "model_id": "af828c4e74604565acdc194c0adfe2ff",
       "version_major": 2,
       "version_minor": 0
      },
      "text/plain": [
       "Processing items_train:   0%|          | 0/12413 [00:00<?, ?it/s]"
      ]
     },
     "metadata": {},
     "output_type": "display_data"
    },
    {
     "name": "stdout",
     "output_type": "stream",
     "text": [
      "{'participant_id': 310548, 'test_section_id': 3341921, 'input_string': 'Sounds good to me.', 'keystrokes': ['SHIFT', 'S', 'o', 'u', 'n', 'd', 's', ' ', 'g', 'o', 'o', ' ', 't', 'o', 'BKSP', 'BKSP', 'BKSP', 'BKSP', 'o', 'd', ' ', 't', 'o', ' ', 'm', 'e', '.'], 'intervals': [0, 59, 51, 59, 49, 67, 41, 73, 142, 52, 55, 51, 153, 80, 36, 47, 50, 46, 37], 'sentence_id': 1971, 'messages': [{'content': 'Translate the Time intervals to Keystrokes.\\nTime intervals: 0 59 51 59 49 67 41 73 142 52 55 51 153 80 36 47 50 46 37', 'role': 'user'}, {'content': 'Sounds good to me.', 'role': 'assistant'}]}\n"
     ]
    },
    {
     "data": {
      "application/vnd.jupyter.widget-view+json": {
       "model_id": "ecbe470c46b6487d84256a4d5a5b8dd2",
       "version_major": 2,
       "version_minor": 0
      },
      "text/plain": [
       "Processing items_test:   0%|          | 0/2284 [00:00<?, ?it/s]"
      ]
     },
     "metadata": {},
     "output_type": "display_data"
    },
    {
     "name": "stdout",
     "output_type": "stream",
     "text": [
      "{'participant_id': 347528, 'test_section_id': 3746726, 'input_string': 'Jiang made the comments in a meeting with Malaysian Prime minister.', 'keystrokes': ['SHIFT', 'J', 'i', 'a', 'n', 'g', ' ', 'm', 'a', 'd', 'e', ' ', 't', 'h', 'e', ' ', 'c', 'o', 'm', 'e', 'BKSP', 'm', 'e', 'n', 't', 's', ' ', 'i', 'n', ' ', 'a', ' ', 'm', 'e', 'e', 't', 'i', 'n', 'g', ' ', 'w', 'i', 't', 'h', ' ', 'SHIFT', 'M', 'a', 'y', 'a', 'BKSP', 'BKSP', 'l', 'a', 'y', 'a', 'BKSP', 's', 'i', 'a', 'n', ' ', 'SHIFT', 'P', 'r', 'o', 'm', 'e', 'BKSP', 'BKSP', 'BKSP', 'm', 'e', ' ', 'm', 'i', 'n', 'i', 's', 't', 'e', 'r', '.'], 'intervals': [1762, 195, 170, 137, 336, 196, 92, 252, 236, 216, 76, 126, 81, 267, 188, 172, 133, 157, 88, 184, 185, 246, 265, 470, 1021, 224, 168, 151, 281, 234, 188, 240, 174, 199, 218, 454, 110, 217, 249, 204, 406, 213, 185, 198, 213, 80, 162, 261, 127, 286, 82, 189, 750, 156, 237, 220, 168, 1022, 264, 630, 1022, 298, 125, 179, 723, 1021, 266, 127, 222, 364, 315, 400, 283, 265, 244, 209, 245, 188, 294, 234, 205, 641, 145, 151, 200, 182, 199, 171, 289, 195, 150, 104], 'sentence_id': 81552, 'messages': [{'content': 'Translate the Time intervals to Keystrokes.\\nTime intervals: 1762 195 170 137 336 196 92 252 236 216 76 126 81 267 188 172 133 157 88 184 185 246 265 470 1021 224 168 151 281 234 188 240 174 199 218 454 110 217 249 204 406 213 185 198 213 80 162 261 127 286 82 189 750 156 237 220 168 1022 264 630 1022 298 125 179 723 1021 266 127 222 364 315 400 283 265 244 209 245 188 294 234 205 641 145 151 200 182 199 171 289 195 150 104', 'role': 'user'}, {'content': 'Jiang made the comments in a meeting with Malaysian Prime minister.', 'role': 'assistant'}]}\n",
      "Number of training items: 12413\n",
      "Number of test items: 2284\n",
      "DatasetDict({\n",
      "    train: Dataset({\n",
      "        features: ['participant_id', 'test_section_id', 'input_string', 'keystrokes', 'intervals', 'sentence_id', 'messages'],\n",
      "        num_rows: 12413\n",
      "    })\n",
      "    test: Dataset({\n",
      "        features: ['participant_id', 'test_section_id', 'input_string', 'keystrokes', 'intervals', 'sentence_id', 'messages'],\n",
      "        num_rows: 2284\n",
      "    })\n",
      "})\n"
     ]
    }
   ],
   "source": [
    "items_train = []\n",
    "for item in tqdm(train_data, desc=\"Processing items_train\"):\n",
    "    # messages = []\n",
    "    # roles = [\"user\", \"assistant\"]\n",
    "    # for index, message in enumerate(item[\"conversations\"]):\n",
    "    #     messages.append({\"role\": roles[index % 2], \"content\": message})\n",
    "    # item[\"messages\"] = messages\n",
    "    items_train.append(item)\n",
    "print(items_train[0])\n",
    "\n",
    "items_test = []\n",
    "for item in tqdm(test_data, desc=\"Processing items_test\"):\n",
    "    # messages = []\n",
    "    # roles = [\"user\", \"assistant\"]\n",
    "    # for index, message in enumerate(item[\"conversations\"]):\n",
    "    #     messages.append({\"role\": roles[index % 2], \"content\": message})\n",
    "    # item[\"messages\"] = messages\n",
    "    items_test.append(item)\n",
    "print(items_test[0])\n",
    "\n",
    "\n",
    "print(f\"Number of training items: {len(items_train)}\")\n",
    "print(f\"Number of test items: {len(items_test)}\")\n",
    "\n",
    "dataset_train = datasets.Dataset.from_list(items_train)\n",
    "dataset_test = datasets.Dataset.from_list(items_test)\n",
    "dataset = datasets.DatasetDict({\"train\": dataset_train, \"test\": dataset_test})\n",
    "print(dataset)"
   ]
  },
  {
   "cell_type": "code",
   "execution_count": 5,
   "metadata": {},
   "outputs": [
    {
     "data": {
      "application/vnd.jupyter.widget-view+json": {
       "model_id": "2d3cc38d8f3f4cb480ee652eee17b6cf",
       "version_major": 2,
       "version_minor": 0
      },
      "text/plain": [
       "Saving the dataset (0/1 shards):   0%|          | 0/12413 [00:00<?, ? examples/s]"
      ]
     },
     "metadata": {},
     "output_type": "display_data"
    },
    {
     "data": {
      "application/vnd.jupyter.widget-view+json": {
       "model_id": "bd227b315ade475f8f7ec117f011ed89",
       "version_major": 2,
       "version_minor": 0
      },
      "text/plain": [
       "Saving the dataset (0/1 shards):   0%|          | 0/2284 [00:00<?, ? examples/s]"
      ]
     },
     "metadata": {},
     "output_type": "display_data"
    }
   ],
   "source": [
    "dataset.save_to_disk(\"open-instruct/data/key_cache_olmoe\")"
   ]
  },
  {
   "cell_type": "code",
   "execution_count": 6,
   "metadata": {},
   "outputs": [
    {
     "name": "stdout",
     "output_type": "stream",
     "text": [
      "DatasetDict({\n",
      "    train: Dataset({\n",
      "        features: ['participant_id', 'test_section_id', 'input_string', 'keystrokes', 'intervals', 'sentence_id', 'messages'],\n",
      "        num_rows: 12413\n",
      "    })\n",
      "    test: Dataset({\n",
      "        features: ['participant_id', 'test_section_id', 'input_string', 'keystrokes', 'intervals', 'sentence_id', 'messages'],\n",
      "        num_rows: 2284\n",
      "    })\n",
      "})\n"
     ]
    }
   ],
   "source": [
    "print(dataset)"
   ]
  },
  {
   "cell_type": "code",
   "execution_count": 7,
   "metadata": {},
   "outputs": [
    {
     "data": {
      "application/vnd.jupyter.widget-view+json": {
       "model_id": "5f7b0b9fb1034aeda2128dc49405c6ea",
       "version_major": 2,
       "version_minor": 0
      },
      "text/plain": [
       "Uploading the dataset shards:   0%|          | 0/1 [00:00<?, ?it/s]"
      ]
     },
     "metadata": {},
     "output_type": "display_data"
    },
    {
     "data": {
      "application/vnd.jupyter.widget-view+json": {
       "model_id": "8f2d69b608bb4b34bc2998140adf240f",
       "version_major": 2,
       "version_minor": 0
      },
      "text/plain": [
       "Creating parquet from Arrow format:   0%|          | 0/13 [00:00<?, ?ba/s]"
      ]
     },
     "metadata": {},
     "output_type": "display_data"
    },
    {
     "data": {
      "application/vnd.jupyter.widget-view+json": {
       "model_id": "b8c119b7b0604b2d8d13c9e1e7511e38",
       "version_major": 2,
       "version_minor": 0
      },
      "text/plain": [
       "Uploading the dataset shards:   0%|          | 0/1 [00:00<?, ?it/s]"
      ]
     },
     "metadata": {},
     "output_type": "display_data"
    },
    {
     "data": {
      "application/vnd.jupyter.widget-view+json": {
       "model_id": "b88461fabaa54e71a2df906a90fab905",
       "version_major": 2,
       "version_minor": 0
      },
      "text/plain": [
       "Creating parquet from Arrow format:   0%|          | 0/3 [00:00<?, ?ba/s]"
      ]
     },
     "metadata": {},
     "output_type": "display_data"
    },
    {
     "data": {
      "text/plain": [
       "CommitInfo(commit_url='https://huggingface.co/datasets/WhenceFade/key_cache_olmoe/commit/8fdca5bd32f13895f1a7f29ef5f53372dd5de300', commit_message='Upload dataset', commit_description='', oid='8fdca5bd32f13895f1a7f29ef5f53372dd5de300', pr_url=None, repo_url=RepoUrl('https://huggingface.co/datasets/WhenceFade/key_cache_olmoe', endpoint='https://huggingface.co', repo_type='dataset', repo_id='WhenceFade/key_cache_olmoe'), pr_revision=None, pr_num=None)"
      ]
     },
     "execution_count": 7,
     "metadata": {},
     "output_type": "execute_result"
    }
   ],
   "source": [
    "dataset.push_to_hub(\"WhenceFade/key_cache_olmoe\")"
   ]
  },
  {
   "cell_type": "code",
   "execution_count": null,
   "metadata": {},
   "outputs": [
    {
     "name": "stdout",
     "output_type": "stream",
     "text": [
      "Dataset({\n",
      "    features: ['messages'],\n",
      "    num_rows: 1330\n",
      "})\n"
     ]
    }
   ],
   "source": [
    "disk_dataset = datasets.load_from_disk(\"open-instruct/data/key_olmoe\")\n",
    "print(disk_dataset)"
   ]
  }
 ],
 "metadata": {
  "kernelspec": {
   "display_name": "Python 3",
   "language": "python",
   "name": "python3"
  },
  "language_info": {
   "codemirror_mode": {
    "name": "ipython",
    "version": 3
   },
   "file_extension": ".py",
   "mimetype": "text/x-python",
   "name": "python",
   "nbconvert_exporter": "python",
   "pygments_lexer": "ipython3",
   "version": "3.10.16"
  }
 },
 "nbformat": 4,
 "nbformat_minor": 2
}
