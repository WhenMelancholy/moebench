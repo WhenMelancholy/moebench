{
 "cells": [
  {
   "cell_type": "code",
   "execution_count": 1,
   "metadata": {},
   "outputs": [],
   "source": [
    "import os\n",
    "import datasets\n",
    "from tqdm.auto import tqdm\n",
    "\n",
    "import pandas as pd\n",
    "\n",
    "os.chdir(\"/n/home08/zkong/mufan/tmp/moebench\")"
   ]
  },
  {
   "cell_type": "code",
   "execution_count": 3,
   "metadata": {},
   "outputs": [],
   "source": [
    "import json\n",
    "\n",
    "train_data = []\n",
    "train_jsonl = \"key/llama-cookbook/data/cache_dynamic_new/within_participant_within_sentence_train.jsonl\"\n",
    "with open(train_jsonl, \"r\") as f:\n",
    "    for line in f:\n",
    "        train_data.append(json.loads(line))\n",
    "\n",
    "test_data = []\n",
    "test_jsonl = \"key/llama-cookbook/data/cache_dynamic_new/across_participant_across_sentence_test.jsonl\"\n",
    "with open(test_jsonl, \"r\") as f:\n",
    "    for line in f:\n",
    "        test_data.append(json.loads(line))"
   ]
  },
  {
   "cell_type": "code",
   "execution_count": 4,
   "metadata": {},
   "outputs": [
    {
     "data": {
      "application/vnd.jupyter.widget-view+json": {
       "model_id": "a323ed0d1325434e918c5b5a02d1b7d6",
       "version_major": 2,
       "version_minor": 0
      },
      "text/plain": [
       "Processing items_train:   0%|          | 0/1563827 [00:00<?, ?it/s]"
      ]
     },
     "metadata": {},
     "output_type": "display_data"
    },
    {
     "name": "stdout",
     "output_type": "stream",
     "text": [
      "{'participant_id': 107109, 'test_section_id': 1168669, 'input_string': 'Lynn, got to the office OK.', 'keystrokes': ['SHIFT', 'L', 'y', 'n', 'n', ',', ' ', 'g', 'o', 't', ' ', 't', 'o', ' ', 't', 'h', 'e', ' ', 'o', 'f', 'f', 'i', 'c', 'e', ' ', 'SHIFT', 'O', 'K', '.'], 'intervals': [0, 516, 222, 165, 294, 141, 159, 144, 162, 75, 123, 81, 639, 105, 87, 774, 84, 90, 183, 498, 111, 102, 93, 399, 78, 645, 144, 459], 'sentence_id': 1853, 'messages': [{'content': 'Translate the Time intervals to Keystrokes.\\nTime intervals: 0 516 222 165 294 141 159 144 162 75 123 81 639 105 87 774 84 90 183 498 111 102 93 399 78 645 144 459', 'role': 'user'}, {'content': 'Lynn, got to the office OK.', 'role': 'assistant'}]}\n"
     ]
    },
    {
     "data": {
      "application/vnd.jupyter.widget-view+json": {
       "model_id": "fd779063dfe043b884ad1ddadbbdb63d",
       "version_major": 2,
       "version_minor": 0
      },
      "text/plain": [
       "Processing items_test:   0%|          | 0/10481 [00:00<?, ?it/s]"
      ]
     },
     "metadata": {},
     "output_type": "display_data"
    },
    {
     "name": "stdout",
     "output_type": "stream",
     "text": [
      "{'participant_id': 315553, 'test_section_id': 3396321, 'input_string': \"I'll presume it is dead until I hear otherwise.\", 'keystrokes': ['SHIFT', 'I', \"'\", 'l', 'l', ' ', 'p', 'r', 'e', 's', 'ARW_RIGHT', 'u', 'm', 'e', ' ', 'i', 't', ' ', 'i', 's', ' ', 'd', 'e', 'a', 'd', ' ', 'u', 'n', 't', 'i', 'l', ' ', 'SHIFT', 'I', ' ', 'h', 'e', 'a', 'r', ' ', 'o', 't', 'h', 'e', 'r', 'w', 'i', 's', 'e', '.'], 'intervals': [0, 753, 453, 147, 378, 1017, 1014, 492, 306, 345, 63, 261, 894, 861, 678, 168, 192, 294, 234, 219, 735, 225, 381, 300, 267, 852, 240, 426, 279, 198, 285, 1011, 624, 975, 660, 198, 435, 342, 240, 903, 612, 201, 267, 252, 453, 597, 198, 249, 1017], 'sentence_id': 2262, 'messages': [{'content': 'Translate the Time intervals to Keystrokes.\\nTime intervals: 0 753 453 147 378 1017 1014 492 306 345 63 261 894 861 678 168 192 294 234 219 735 225 381 300 267 852 240 426 279 198 285 1011 624 975 660 198 435 342 240 903 612 201 267 252 453 597 198 249 1017', 'role': 'user'}, {'content': \"I'll presume it is dead until I hear otherwise.\", 'role': 'assistant'}]}\n",
      "Number of training items: 1563827\n",
      "Number of test items: 10481\n",
      "DatasetDict({\n",
      "    train: Dataset({\n",
      "        features: ['participant_id', 'test_section_id', 'input_string', 'keystrokes', 'intervals', 'sentence_id', 'messages'],\n",
      "        num_rows: 1563827\n",
      "    })\n",
      "    test: Dataset({\n",
      "        features: ['participant_id', 'test_section_id', 'input_string', 'keystrokes', 'intervals', 'sentence_id', 'messages'],\n",
      "        num_rows: 10481\n",
      "    })\n",
      "})\n"
     ]
    }
   ],
   "source": [
    "items_train = []\n",
    "for item in tqdm(train_data, desc=\"Processing items_train\"):\n",
    "    # messages = []\n",
    "    # roles = [\"user\", \"assistant\"]\n",
    "    # for index, message in enumerate(item[\"conversations\"]):\n",
    "    #     messages.append({\"role\": roles[index % 2], \"content\": message})\n",
    "    # item[\"messages\"] = messages\n",
    "    if \"hitcounts\" in item:\n",
    "        # Remove hitcounts if it exists\n",
    "        del item[\"hitcounts\"]\n",
    "    if \"delta\" in item:\n",
    "        # Remove delta if it exists\n",
    "        del item[\"delta\"]\n",
    "    items_train.append(item)\n",
    "print(items_train[0])\n",
    "\n",
    "items_test = []\n",
    "for item in tqdm(test_data, desc=\"Processing items_test\"):\n",
    "    # messages = []\n",
    "    # roles = [\"user\", \"assistant\"]\n",
    "    # for index, message in enumerate(item[\"conversations\"]):\n",
    "    #     messages.append({\"role\": roles[index % 2], \"content\": message})\n",
    "    # item[\"messages\"] = messages\n",
    "    if \"hitcounts\" in item:\n",
    "        # Remove hitcounts if it exists\n",
    "        del item[\"hitcounts\"]\n",
    "    if \"delta\" in item:\n",
    "        # Remove delta if it exists\n",
    "        del item[\"delta\"]\n",
    "    items_test.append(item)\n",
    "print(items_test[0])\n",
    "\n",
    "\n",
    "print(f\"Number of training items: {len(items_train)}\")\n",
    "print(f\"Number of test items: {len(items_test)}\")\n",
    "\n",
    "dataset_train = datasets.Dataset.from_list(items_train)\n",
    "dataset_test = datasets.Dataset.from_list(items_test)\n",
    "dataset = datasets.DatasetDict({\"train\": dataset_train, \"test\": dataset_test})\n",
    "print(dataset)"
   ]
  },
  {
   "cell_type": "code",
   "execution_count": 5,
   "metadata": {},
   "outputs": [
    {
     "data": {
      "application/vnd.jupyter.widget-view+json": {
       "model_id": "5c4a2a262c164baba419f9027938906a",
       "version_major": 2,
       "version_minor": 0
      },
      "text/plain": [
       "Saving the dataset (0/4 shards):   0%|          | 0/1563827 [00:00<?, ? examples/s]"
      ]
     },
     "metadata": {},
     "output_type": "display_data"
    },
    {
     "data": {
      "application/vnd.jupyter.widget-view+json": {
       "model_id": "3d9bcde494b84ecc80291be00c25a3bc",
       "version_major": 2,
       "version_minor": 0
      },
      "text/plain": [
       "Saving the dataset (0/1 shards):   0%|          | 0/10481 [00:00<?, ? examples/s]"
      ]
     },
     "metadata": {},
     "output_type": "display_data"
    }
   ],
   "source": [
    "dataset.save_to_disk(\"open-instruct/data/0601_key_cache_dynamic_olmoe\")"
   ]
  },
  {
   "cell_type": "code",
   "execution_count": 6,
   "metadata": {},
   "outputs": [
    {
     "name": "stdout",
     "output_type": "stream",
     "text": [
      "DatasetDict({\n",
      "    train: Dataset({\n",
      "        features: ['participant_id', 'test_section_id', 'input_string', 'keystrokes', 'intervals', 'sentence_id', 'messages'],\n",
      "        num_rows: 1563827\n",
      "    })\n",
      "    test: Dataset({\n",
      "        features: ['participant_id', 'test_section_id', 'input_string', 'keystrokes', 'intervals', 'sentence_id', 'messages'],\n",
      "        num_rows: 10481\n",
      "    })\n",
      "})\n"
     ]
    }
   ],
   "source": [
    "print(dataset)"
   ]
  },
  {
   "cell_type": "code",
   "execution_count": 7,
   "metadata": {},
   "outputs": [
    {
     "data": {
      "application/vnd.jupyter.widget-view+json": {
       "model_id": "7c5962bcf4be468dac0d186b3f65bb7c",
       "version_major": 2,
       "version_minor": 0
      },
      "text/plain": [
       "Uploading the dataset shards:   0%|          | 0/4 [00:00<?, ?it/s]"
      ]
     },
     "metadata": {},
     "output_type": "display_data"
    },
    {
     "data": {
      "application/vnd.jupyter.widget-view+json": {
       "model_id": "b57976706457418c98a10bcca98fd342",
       "version_major": 2,
       "version_minor": 0
      },
      "text/plain": [
       "Creating parquet from Arrow format:   0%|          | 0/391 [00:00<?, ?ba/s]"
      ]
     },
     "metadata": {},
     "output_type": "display_data"
    },
    {
     "data": {
      "application/vnd.jupyter.widget-view+json": {
       "model_id": "50f6ab74c012458d816c79581bb2b4e2",
       "version_major": 2,
       "version_minor": 0
      },
      "text/plain": [
       "Creating parquet from Arrow format:   0%|          | 0/391 [00:00<?, ?ba/s]"
      ]
     },
     "metadata": {},
     "output_type": "display_data"
    },
    {
     "data": {
      "application/vnd.jupyter.widget-view+json": {
       "model_id": "cd1627dc60624d919a9167b1221a8592",
       "version_major": 2,
       "version_minor": 0
      },
      "text/plain": [
       "Creating parquet from Arrow format:   0%|          | 0/391 [00:00<?, ?ba/s]"
      ]
     },
     "metadata": {},
     "output_type": "display_data"
    },
    {
     "data": {
      "application/vnd.jupyter.widget-view+json": {
       "model_id": "4d9202c668844c5da8e912ef81661ba6",
       "version_major": 2,
       "version_minor": 0
      },
      "text/plain": [
       "Creating parquet from Arrow format:   0%|          | 0/391 [00:00<?, ?ba/s]"
      ]
     },
     "metadata": {},
     "output_type": "display_data"
    },
    {
     "data": {
      "application/vnd.jupyter.widget-view+json": {
       "model_id": "00fe952a5c134956b89a96361f11658a",
       "version_major": 2,
       "version_minor": 0
      },
      "text/plain": [
       "Uploading the dataset shards:   0%|          | 0/1 [00:00<?, ?it/s]"
      ]
     },
     "metadata": {},
     "output_type": "display_data"
    },
    {
     "data": {
      "application/vnd.jupyter.widget-view+json": {
       "model_id": "33437a8c4e294536b236a8fa8fbd7d07",
       "version_major": 2,
       "version_minor": 0
      },
      "text/plain": [
       "Creating parquet from Arrow format:   0%|          | 0/11 [00:00<?, ?ba/s]"
      ]
     },
     "metadata": {},
     "output_type": "display_data"
    },
    {
     "data": {
      "text/plain": [
       "CommitInfo(commit_url='https://huggingface.co/datasets/WhenceFade/0601_key_cache_dynamic_olmoe/commit/186081a83b63556dac49695a025a6769460e504f', commit_message='Upload dataset', commit_description='', oid='186081a83b63556dac49695a025a6769460e504f', pr_url=None, repo_url=RepoUrl('https://huggingface.co/datasets/WhenceFade/0601_key_cache_dynamic_olmoe', endpoint='https://huggingface.co', repo_type='dataset', repo_id='WhenceFade/0601_key_cache_dynamic_olmoe'), pr_revision=None, pr_num=None)"
      ]
     },
     "execution_count": 7,
     "metadata": {},
     "output_type": "execute_result"
    }
   ],
   "source": [
    "dataset.push_to_hub(\"WhenceFade/0601_key_cache_dynamic_olmoe\")"
   ]
  },
  {
   "cell_type": "code",
   "execution_count": 8,
   "metadata": {},
   "outputs": [
    {
     "name": "stdout",
     "output_type": "stream",
     "text": [
      "DatasetDict({\n",
      "    train: Dataset({\n",
      "        features: ['participant_id', 'test_section_id', 'input_string', 'keystrokes', 'intervals', 'sentence_id', 'messages'],\n",
      "        num_rows: 1563827\n",
      "    })\n",
      "    test: Dataset({\n",
      "        features: ['participant_id', 'test_section_id', 'input_string', 'keystrokes', 'intervals', 'sentence_id', 'messages'],\n",
      "        num_rows: 10481\n",
      "    })\n",
      "})\n"
     ]
    }
   ],
   "source": [
    "disk_dataset = datasets.load_from_disk(\n",
    "    \"open-instruct/data/0601_key_cache_dynamic_olmoe\"\n",
    ")\n",
    "print(disk_dataset)"
   ]
  },
  {
   "cell_type": "code",
   "execution_count": 9,
   "metadata": {},
   "outputs": [
    {
     "name": "stdout",
     "output_type": "stream",
     "text": [
      "{'participant_id': 107109, 'test_section_id': 1168669, 'input_string': 'Lynn, got to the office OK.', 'keystrokes': ['SHIFT', 'L', 'y', 'n', 'n', ',', ' ', 'g', 'o', 't', ' ', 't', 'o', ' ', 't', 'h', 'e', ' ', 'o', 'f', 'f', 'i', 'c', 'e', ' ', 'SHIFT', 'O', 'K', '.'], 'intervals': [0, 516, 222, 165, 294, 141, 159, 144, 162, 75, 123, 81, 639, 105, 87, 774, 84, 90, 183, 498, 111, 102, 93, 399, 78, 645, 144, 459], 'sentence_id': 1853, 'messages': [{'content': 'Translate the Time intervals to Keystrokes.\\nTime intervals: 0 516 222 165 294 141 159 144 162 75 123 81 639 105 87 774 84 90 183 498 111 102 93 399 78 645 144 459', 'role': 'user'}, {'content': 'Lynn, got to the office OK.', 'role': 'assistant'}]}\n",
      "28\n",
      "29\n",
      "{'participant_id': 273083, 'test_section_id': 2927181, 'input_string': \"And if he's not, then he doesn't play.\", 'keystrokes': ['SHIFT', 'A', 'n', 'd', ' ', 'i', 'f', ' ', 'h', 'e', \"'\", 's', ' ', 'n', 'o', 't', ',', ' ', 't', 'h', 'e', 'n', ' ', 'h', 'e', ' ', 'd', 'e', 'o', 'BKSP', 'BKSP', 'o', 'e', 's', 'n', \"'\", 't', ' ', 'p', 'l', 'a', 'y', '.'], 'intervals': [0, 114, 153, 108, 324, 306, 99, 114, 144, 564, 147, 108, 150, 87, 162, 213, 78, 123, 90, 99, 126, 102, 204, 117, 207, 192, 198, 129, 273, 156, 213, 114, 1011, 429, 114, 96, 195, 189, 135, 69, 627], 'sentence_id': 1273, 'messages': [{'content': 'Translate the Time intervals to Keystrokes.\\nTime intervals: 0 114 153 108 324 306 99 114 144 564 147 108 150 87 162 213 78 123 90 99 126 102 204 117 207 192 198 129 273 156 213 114 1011 429 114 96 195 189 135 69 627', 'role': 'user'}, {'content': \"And if he's not, then he doesn't play.\", 'role': 'assistant'}]}\n",
      "41\n",
      "43\n",
      "{'participant_id': 313777, 'test_section_id': 3375967, 'input_string': 'John this message concerns me.', 'keystrokes': ['SHIFT', 'J', 'o', 'p', 'BKSP', 'h', 'n', ' ', 't', 'h', 'i', 's', ' ', 'm', 'e', 's', 's', 'a', 'g', 'e', ' ', 'c', 'o', 'n', 'c', 'e', 'r', 'n', 's', ' ', 'm', 'e', '.'], 'intervals': [0, 144, 336, 63, 987, 411, 207, 177, 360, 204, 225, 534, 198, 708, 222, 231, 126, 195, 264, 126, 156, 423, 192, 300, 321, 183, 192, 411, 183, 282, 510, 180, 1011], 'sentence_id': 1419, 'messages': [{'content': 'Translate the Time intervals to Keystrokes.\\nTime intervals: 0 144 336 63 987 411 207 177 360 204 225 534 198 708 222 231 126 195 264 126 156 423 192 300 321 183 192 411 183 282 510 180 1011', 'role': 'user'}, {'content': 'John this message concerns me.', 'role': 'assistant'}]}\n",
      "33\n",
      "33\n",
      "{'participant_id': 12592, 'test_section_id': 135167, 'input_string': 'I have a request.', 'keystrokes': ['SHIFT', 'I', ' ', 'h', 'a', 'v', 'e', ' ', 'a', ' ', 'r', 'e', 'q', 'u', 'e', 's', 't', '.'], 'intervals': [0, 99, 66, 72, 117, 102, 81, 90, 111, 894, 96, 438, 222, 105, 93, 156, 93], 'sentence_id': 1711, 'messages': [{'content': 'Translate the Time intervals to Keystrokes.\\nTime intervals: 0 99 66 72 117 102 81 90 111 894 96 438 222 105 93 156 93', 'role': 'user'}, {'content': 'I have a request.', 'role': 'assistant'}]}\n",
      "17\n",
      "18\n",
      "{'participant_id': 128146, 'test_section_id': 1392903, 'input_string': 'A bit behind on my emails.', 'keystrokes': ['SHIFT', 'A', ' ', 'b', 'i', 't', ' ', 'b', 'e', 'h', 'i', 'n', 'd', ' ', 'o', 'n', ' ', 'm', 'y', ' ', 'e', 'm', 'a', 'i', 'l', 's', '.'], 'intervals': [0, 963, 117, 201, 201, 126, 117, 111, 216, 153, 102, 135, 120, 99, 102, 135, 120, 153, 117, 198, 120, 360, 138, 153, 63, 132, 135, 108], 'sentence_id': 314, 'messages': [{'content': 'Translate the Time intervals to Keystrokes.\\nTime intervals: 0 963 117 201 201 126 117 111 216 153 102 135 120 99 102 135 120 153 117 198 120 360 138 153 63 132 135 108', 'role': 'user'}, {'content': 'A bit behind on my emails.', 'role': 'assistant'}]}\n",
      "28\n",
      "27\n",
      "Train dataset loaded successfully.\n"
     ]
    }
   ],
   "source": [
    "train_dataset = disk_dataset[\"train\"]\n",
    "for i in range(5):\n",
    "    print(train_dataset[i])\n",
    "    print(len(train_dataset[i][\"intervals\"]))\n",
    "    print(len(train_dataset[i][\"keystrokes\"]))\n",
    "print(\"Train dataset loaded successfully.\")"
   ]
  },
  {
   "cell_type": "code",
   "execution_count": null,
   "metadata": {},
   "outputs": [
    {
     "data": {
      "application/vnd.jupyter.widget-view+json": {
       "model_id": "5755ce2508a348dfafe8052c55e38026",
       "version_major": 2,
       "version_minor": 0
      },
      "text/plain": [
       "  0%|          | 0/1517890 [00:00<?, ?it/s]"
      ]
     },
     "metadata": {},
     "output_type": "display_data"
    },
    {
     "data": {
      "application/vnd.jupyter.widget-view+json": {
       "model_id": "456023b3ea4e444b964baeca6fe494d8",
       "version_major": 2,
       "version_minor": 0
      },
      "text/plain": [
       "  0%|          | 0/1517890 [00:00<?, ?it/s]"
      ]
     },
     "metadata": {},
     "output_type": "display_data"
    },
    {
     "data": {
      "image/png": "[encoded data removed]",
      "text/plain": [
       "<Figure size 1600x600 with 2 Axes>"
      ]
     },
     "metadata": {},
     "output_type": "display_data"
    },
    {
     "name": "stdout",
     "output_type": "stream",
     "text": [
      "Interval lengths - Min: 1, Max: 500, Mean: 37.52\n",
      "Keystroke lengths - Min: 2, Max: 729, Mean: 48.74\n",
      "Length differences - Min: -85, Max: 663, Mean: 11.22\n"
     ]
    }
   ],
   "source": [
    "import matplotlib.pyplot as plt\n",
    "import numpy as np\n",
    "from tqdm.auto import tqdm\n",
    "\n",
    "# Extract lengths of intervals and keystrokes\n",
    "interval_lengths = [len(item[\"intervals\"]) for item in tqdm(train_dataset)]\n",
    "keystroke_lengths = [len(item[\"keystrokes\"]) for item in tqdm(train_dataset)]\n",
    "\n",
    "# Create side-by-side subplots\n",
    "fig, (ax1, ax2) = plt.subplots(1, 2, figsize=(16, 6))\n",
    "\n",
    "# First subplot: Original comparison with better bins\n",
    "min_val = min(min(interval_lengths), min(keystroke_lengths))\n",
    "max_val = max(max(interval_lengths), max(keystroke_lengths))\n",
    "bins = np.arange(min_val, max_val + 2) - 0.5\n",
    "\n",
    "# Plot histogram for interval lengths\n",
    "ax1.hist(\n",
    "    interval_lengths,\n",
    "    bins=bins,\n",
    "    alpha=0.6,\n",
    "    label=\"Interval Lengths\",\n",
    "    color=\"skyblue\",\n",
    "    edgecolor=\"black\",\n",
    "    linewidth=0.8,\n",
    ")\n",
    "\n",
    "# Plot histogram for keystroke lengths\n",
    "ax1.hist(\n",
    "    keystroke_lengths,\n",
    "    bins=bins,\n",
    "    alpha=0.6,\n",
    "    label=\"Keystroke Lengths\",\n",
    "    color=\"salmon\",\n",
    "    edgecolor=\"black\",\n",
    "    linewidth=0.8,\n",
    ")\n",
    "\n",
    "ax1.set_xlabel(\"Length\", fontsize=12)\n",
    "ax1.set_ylabel(\"Frequency\", fontsize=12)\n",
    "ax1.set_title(\"Distribution of Interval and Keystroke Lengths\", fontsize=14)\n",
    "ax1.set_xticks(np.arange(min_val, max_val + 1))\n",
    "ax1.legend(fontsize=10)\n",
    "ax1.grid(axis=\"y\", linestyle=\"--\", alpha=0.7)\n",
    "\n",
    "# Second subplot: Difference histogram\n",
    "length_differences = [k - i for k, i in zip(keystroke_lengths, interval_lengths)]\n",
    "min_diff = min(length_differences)\n",
    "max_diff = max(length_differences)\n",
    "diff_bins = np.arange(min_diff, max_diff + 2) - 0.5\n",
    "\n",
    "ax2.hist(\n",
    "    length_differences,\n",
    "    bins=diff_bins,\n",
    "    alpha=0.7,\n",
    "    color=\"lightgreen\",\n",
    "    edgecolor=\"black\",\n",
    "    linewidth=0.8,\n",
    ")\n",
    "\n",
    "ax2.set_xlabel(\"Length Difference (Keystrokes - Intervals)\", fontsize=12)\n",
    "ax2.set_ylabel(\"Frequency\", fontsize=12)\n",
    "ax2.set_title(\"Distribution of Length Differences\", fontsize=14)\n",
    "ax2.set_xticks(np.arange(min_diff, max_diff + 1))\n",
    "ax2.grid(axis=\"y\", linestyle=\"--\", alpha=0.7)\n",
    "\n",
    "# Add vertical line at zero for reference\n",
    "ax2.axvline(x=0, color=\"red\", linestyle=\"--\", alpha=0.8, label=\"Zero Difference\")\n",
    "ax2.legend(fontsize=10)\n",
    "\n",
    "plt.tight_layout()\n",
    "plt.show()\n",
    "\n",
    "# Print some statistics\n",
    "print(\n",
    "    f\"Interval lengths - Min: {min(interval_lengths)}, Max: {max(interval_lengths)}, Mean: {np.mean(interval_lengths):.2f}\"\n",
    ")\n",
    "print(\n",
    "    f\"Keystroke lengths - Min: {min(keystroke_lengths)}, Max: {max(keystroke_lengths)}, Mean: {np.mean(keystroke_lengths):.2f}\"\n",
    ")\n",
    "print(\n",
    "    f\"Length differences - Min: {min_diff}, Max: {max_diff}, Mean: {np.mean(length_differences):.2f}\"\n",
    ")"
   ]
  }
 ],
 "metadata": {
  "kernelspec": {
   "display_name": "olmo",
   "language": "python",
   "name": "python3"
  },
  "language_info": {
   "codemirror_mode": {
    "name": "ipython",
    "version": 3
   },
   "file_extension": ".py",
   "mimetype": "text/x-python",
   "name": "python",
   "nbconvert_exporter": "python",
   "pygments_lexer": "ipython3",
   "version": "3.10.16"
  }
 },
 "nbformat": 4,
 "nbformat_minor": 2
}
