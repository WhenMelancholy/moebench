{
 "cells": [
  {
   "cell_type": "code",
   "execution_count": 1,
   "metadata": {},
   "outputs": [],
   "source": [
    "import os\n",
    "import datasets\n",
    "from tqdm.auto import tqdm\n",
    "\n",
    "import pandas as pd\n",
    "\n",
    "os.chdir(\"/n/home08/zkong/mufan/tmp/moebench\")"
   ]
  },
  {
   "cell_type": "code",
   "execution_count": 2,
   "metadata": {},
   "outputs": [],
   "source": [
    "import json\n",
    "\n",
    "train_data = []\n",
    "train_jsonl = \"key/llama-cookbook/data/cache_dynamic/within_participant_within_sentence_train.jsonl\"\n",
    "with open(train_jsonl, \"r\") as f:\n",
    "    for line in f:\n",
    "        train_data.append(json.loads(line))\n",
    "\n",
    "test_data = []\n",
    "test_jsonl = (\n",
    "    \"key/llama-cookbook/data/cache/across_participant_across_sentence_test.jsonl\"\n",
    ")\n",
    "with open(test_jsonl, \"r\") as f:\n",
    "    for line in f:\n",
    "        test_data.append(json.loads(line))"
   ]
  },
  {
   "cell_type": "code",
   "execution_count": 7,
   "metadata": {},
   "outputs": [
    {
     "data": {
      "application/vnd.jupyter.widget-view+json": {
       "model_id": "686d221cbb0a4328a234211363508086",
       "version_major": 2,
       "version_minor": 0
      },
      "text/plain": [
       "Processing items_train:   0%|          | 0/1196377 [00:00<?, ?it/s]"
      ]
     },
     "metadata": {},
     "output_type": "display_data"
    },
    {
     "name": "stdout",
     "output_type": "stream",
     "text": [
      "{'participant_id': 107109, 'test_section_id': 1168669, 'input_string': 'Lynn, got to the office OK.', 'keystrokes': ['SHIFT', 'L', 'y', 'n', 'n', ',', ' ', 'g', 'o', 't', ' ', 't', 'o', ' ', 't', 'h', 'e', ' ', 'o', 'f', 'f', 'i', 'c', 'e', ' ', 'SHIFT', 'O', 'K', '.'], 'intervals': [0, 26, 39, 50, 61, 72, 83, 147, 179, 221, 233, 234, 244, 277, 299, 301, 313, 323, 333, 334], 'sentence_id': 1853, 'messages': [{'content': 'Translate the Time intervals to Keystrokes.\\nTime intervals: 0 26 39 50 61 72 83 147 179 221 233 234 244 277 299 301 313 323 333 334', 'role': 'user'}, {'content': 'Lynn, got to the office OK.', 'role': 'assistant'}]}\n"
     ]
    },
    {
     "data": {
      "application/vnd.jupyter.widget-view+json": {
       "model_id": "bf14afea2d394b358b3bd8316949e42f",
       "version_major": 2,
       "version_minor": 0
      },
      "text/plain": [
       "Processing items_test:   0%|          | 0/2284 [00:00<?, ?it/s]"
      ]
     },
     "metadata": {},
     "output_type": "display_data"
    },
    {
     "name": "stdout",
     "output_type": "stream",
     "text": [
      "{'participant_id': 347528, 'test_section_id': 3746726, 'input_string': 'Jiang made the comments in a meeting with Malaysian Prime minister.', 'keystrokes': ['SHIFT', 'J', 'i', 'a', 'n', 'g', ' ', 'm', 'a', 'd', 'e', ' ', 't', 'h', 'e', ' ', 'c', 'o', 'm', 'e', 'BKSP', 'm', 'e', 'n', 't', 's', ' ', 'i', 'n', ' ', 'a', ' ', 'm', 'e', 'e', 't', 'i', 'n', 'g', ' ', 'w', 'i', 't', 'h', ' ', 'SHIFT', 'M', 'a', 'y', 'a', 'BKSP', 'BKSP', 'l', 'a', 'y', 'a', 'BKSP', 's', 'i', 'a', 'n', ' ', 'SHIFT', 'P', 'r', 'o', 'm', 'e', 'BKSP', 'BKSP', 'BKSP', 'm', 'e', ' ', 'm', 'i', 'n', 'i', 's', 't', 'e', 'r', '.'], 'intervals': [1762, 195, 170, 137, 336, 196, 92, 252, 236, 216, 76, 126, 81, 267, 188, 172, 133, 157, 88, 184, 185, 246, 265, 470, 1021, 224, 168, 151, 281, 234, 188, 240, 174, 199, 218, 454, 110, 217, 249, 204, 406, 213, 185, 198, 213, 80, 162, 261, 127, 286, 82, 189, 750, 156, 237, 220, 168, 1022, 264, 630, 1022, 298, 125, 179, 723, 1021, 266, 127, 222, 364, 315, 400, 283, 265, 244, 209, 245, 188, 294, 234, 205, 641, 145, 151, 200, 182, 199, 171, 289, 195, 150, 104], 'sentence_id': 81552, 'messages': [{'content': 'Translate the Time intervals to Keystrokes.\\nTime intervals: 1762 195 170 137 336 196 92 252 236 216 76 126 81 267 188 172 133 157 88 184 185 246 265 470 1021 224 168 151 281 234 188 240 174 199 218 454 110 217 249 204 406 213 185 198 213 80 162 261 127 286 82 189 750 156 237 220 168 1022 264 630 1022 298 125 179 723 1021 266 127 222 364 315 400 283 265 244 209 245 188 294 234 205 641 145 151 200 182 199 171 289 195 150 104', 'role': 'user'}, {'content': 'Jiang made the comments in a meeting with Malaysian Prime minister.', 'role': 'assistant'}]}\n",
      "Number of training items: 1196377\n",
      "Number of test items: 2284\n",
      "DatasetDict({\n",
      "    train: Dataset({\n",
      "        features: ['participant_id', 'test_section_id', 'input_string', 'keystrokes', 'intervals', 'sentence_id', 'messages'],\n",
      "        num_rows: 1196377\n",
      "    })\n",
      "    test: Dataset({\n",
      "        features: ['participant_id', 'test_section_id', 'input_string', 'keystrokes', 'intervals', 'sentence_id', 'messages'],\n",
      "        num_rows: 2284\n",
      "    })\n",
      "})\n"
     ]
    }
   ],
   "source": [
    "items_train = []\n",
    "for item in tqdm(train_data, desc=\"Processing items_train\"):\n",
    "    # messages = []\n",
    "    # roles = [\"user\", \"assistant\"]\n",
    "    # for index, message in enumerate(item[\"conversations\"]):\n",
    "    #     messages.append({\"role\": roles[index % 2], \"content\": message})\n",
    "    # item[\"messages\"] = messages\n",
    "    del item[\"hitcounts\"]\n",
    "    items_train.append(item)\n",
    "print(items_train[0])\n",
    "\n",
    "items_test = []\n",
    "for item in tqdm(test_data, desc=\"Processing items_test\"):\n",
    "    # messages = []\n",
    "    # roles = [\"user\", \"assistant\"]\n",
    "    # for index, message in enumerate(item[\"conversations\"]):\n",
    "    #     messages.append({\"role\": roles[index % 2], \"content\": message})\n",
    "    # item[\"messages\"] = messages\n",
    "    items_test.append(item)\n",
    "print(items_test[0])\n",
    "\n",
    "\n",
    "print(f\"Number of training items: {len(items_train)}\")\n",
    "print(f\"Number of test items: {len(items_test)}\")\n",
    "\n",
    "dataset_train = datasets.Dataset.from_list(items_train)\n",
    "dataset_test = datasets.Dataset.from_list(items_test)\n",
    "dataset = datasets.DatasetDict({\"train\": dataset_train, \"test\": dataset_test})\n",
    "print(dataset)"
   ]
  },
  {
   "cell_type": "code",
   "execution_count": 8,
   "metadata": {},
   "outputs": [
    {
     "data": {
      "application/vnd.jupyter.widget-view+json": {
       "model_id": "4e6d3148a826410c9f99192331a9971b",
       "version_major": 2,
       "version_minor": 0
      },
      "text/plain": [
       "Saving the dataset (0/3 shards):   0%|          | 0/1196377 [00:00<?, ? examples/s]"
      ]
     },
     "metadata": {},
     "output_type": "display_data"
    },
    {
     "data": {
      "application/vnd.jupyter.widget-view+json": {
       "model_id": "3782e52f181d4f178b51a52bab40ff38",
       "version_major": 2,
       "version_minor": 0
      },
      "text/plain": [
       "Saving the dataset (0/1 shards):   0%|          | 0/2284 [00:00<?, ? examples/s]"
      ]
     },
     "metadata": {},
     "output_type": "display_data"
    }
   ],
   "source": [
    "dataset.save_to_disk(\"open-instruct/data/0424_key_cache_dynamic_olmoe\")"
   ]
  },
  {
   "cell_type": "code",
   "execution_count": 9,
   "metadata": {},
   "outputs": [
    {
     "name": "stdout",
     "output_type": "stream",
     "text": [
      "DatasetDict({\n",
      "    train: Dataset({\n",
      "        features: ['participant_id', 'test_section_id', 'input_string', 'keystrokes', 'intervals', 'sentence_id', 'messages'],\n",
      "        num_rows: 1196377\n",
      "    })\n",
      "    test: Dataset({\n",
      "        features: ['participant_id', 'test_section_id', 'input_string', 'keystrokes', 'intervals', 'sentence_id', 'messages'],\n",
      "        num_rows: 2284\n",
      "    })\n",
      "})\n"
     ]
    }
   ],
   "source": [
    "print(dataset)"
   ]
  },
  {
   "cell_type": "code",
   "execution_count": 10,
   "metadata": {},
   "outputs": [
    {
     "data": {
      "application/vnd.jupyter.widget-view+json": {
       "model_id": "b6d34cd95ac6449ebf80a998b085ec27",
       "version_major": 2,
       "version_minor": 0
      },
      "text/plain": [
       "Uploading the dataset shards:   0%|          | 0/3 [00:00<?, ?it/s]"
      ]
     },
     "metadata": {},
     "output_type": "display_data"
    },
    {
     "data": {
      "application/vnd.jupyter.widget-view+json": {
       "model_id": "d811265da05845ab9a58255184900c3e",
       "version_major": 2,
       "version_minor": 0
      },
      "text/plain": [
       "Creating parquet from Arrow format:   0%|          | 0/399 [00:00<?, ?ba/s]"
      ]
     },
     "metadata": {},
     "output_type": "display_data"
    },
    {
     "data": {
      "application/vnd.jupyter.widget-view+json": {
       "model_id": "788aef685b74494e973f5ee7a6cb2631",
       "version_major": 2,
       "version_minor": 0
      },
      "text/plain": [
       "Creating parquet from Arrow format:   0%|          | 0/399 [00:00<?, ?ba/s]"
      ]
     },
     "metadata": {},
     "output_type": "display_data"
    },
    {
     "data": {
      "application/vnd.jupyter.widget-view+json": {
       "model_id": "2eec9c2104444a7ca545713218b5cf9a",
       "version_major": 2,
       "version_minor": 0
      },
      "text/plain": [
       "Creating parquet from Arrow format:   0%|          | 0/399 [00:00<?, ?ba/s]"
      ]
     },
     "metadata": {},
     "output_type": "display_data"
    },
    {
     "data": {
      "application/vnd.jupyter.widget-view+json": {
       "model_id": "bf9e0c0ff21647b98b891a13b25f919c",
       "version_major": 2,
       "version_minor": 0
      },
      "text/plain": [
       "Uploading the dataset shards:   0%|          | 0/1 [00:00<?, ?it/s]"
      ]
     },
     "metadata": {},
     "output_type": "display_data"
    },
    {
     "data": {
      "application/vnd.jupyter.widget-view+json": {
       "model_id": "b14af074ec2940348be63c50e9360f7f",
       "version_major": 2,
       "version_minor": 0
      },
      "text/plain": [
       "Creating parquet from Arrow format:   0%|          | 0/3 [00:00<?, ?ba/s]"
      ]
     },
     "metadata": {},
     "output_type": "display_data"
    },
    {
     "data": {
      "text/plain": [
       "CommitInfo(commit_url='https://huggingface.co/datasets/WhenceFade/0424_key_cache_dynamic_olmoe/commit/bd18c3ed576be6d2197b912b8e86ebb89fce857b', commit_message='Upload dataset', commit_description='', oid='bd18c3ed576be6d2197b912b8e86ebb89fce857b', pr_url=None, repo_url=RepoUrl('https://huggingface.co/datasets/WhenceFade/0424_key_cache_dynamic_olmoe', endpoint='https://huggingface.co', repo_type='dataset', repo_id='WhenceFade/0424_key_cache_dynamic_olmoe'), pr_revision=None, pr_num=None)"
      ]
     },
     "execution_count": 10,
     "metadata": {},
     "output_type": "execute_result"
    }
   ],
   "source": [
    "dataset.push_to_hub(\"WhenceFade/0424_key_cache_dynamic_olmoe\")"
   ]
  },
  {
   "cell_type": "code",
   "execution_count": null,
   "metadata": {},
   "outputs": [
    {
     "name": "stdout",
     "output_type": "stream",
     "text": [
      "Dataset({\n",
      "    features: ['messages'],\n",
      "    num_rows: 1330\n",
      "})\n"
     ]
    }
   ],
   "source": [
    "disk_dataset = datasets.load_from_disk(\"open-instruct/data/key_olmoe\")\n",
    "print(disk_dataset)"
   ]
  }
 ],
 "metadata": {
  "kernelspec": {
   "display_name": "Python 3",
   "language": "python",
   "name": "python3"
  },
  "language_info": {
   "codemirror_mode": {
    "name": "ipython",
    "version": 3
   },
   "file_extension": ".py",
   "mimetype": "text/x-python",
   "name": "python",
   "nbconvert_exporter": "python",
   "pygments_lexer": "ipython3",
   "version": "3.12.9"
  }
 },
 "nbformat": 4,
 "nbformat_minor": 2
}
