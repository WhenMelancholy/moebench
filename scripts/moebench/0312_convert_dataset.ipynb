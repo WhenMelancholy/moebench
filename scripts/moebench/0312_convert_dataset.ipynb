{
 "cells": [
  {
   "cell_type": "code",
   "execution_count": null,
   "metadata": {},
   "outputs": [
    {
     "name": "stdout",
     "output_type": "stream",
     "text": [
      "Data files: {'train': 'OLMo/data/minipile/data/train-*.parquet'}\n"
     ]
    },
    {
     "data": {
      "application/vnd.jupyter.widget-view+json": {
       "model_id": "186aaa7fae214c73b13318a8f98d7e56",
       "version_major": 2,
       "version_minor": 0
      },
      "text/plain": [
       "Generating train split: 0 examples [00:00, ? examples/s]"
      ]
     },
     "metadata": {},
     "output_type": "display_data"
    },
    {
     "name": "stdout",
     "output_type": "stream",
     "text": [
      "Split: train, num_shards: 12\n"
     ]
    },
    {
     "data": {
      "application/vnd.jupyter.widget-view+json": {
       "model_id": "399a42028e3b4fd79a16d526749d4932",
       "version_major": 2,
       "version_minor": 0
      },
      "text/plain": [
       "Creating json from Arrow format:   0%|          | 0/84 [00:00<?, ?ba/s]"
      ]
     },
     "metadata": {},
     "output_type": "display_data"
    },
    {
     "data": {
      "application/vnd.jupyter.widget-view+json": {
       "model_id": "e628b6a38dff4356b84e4fda6e7d6c2b",
       "version_major": 2,
       "version_minor": 0
      },
      "text/plain": [
       "Creating json from Arrow format:   0%|          | 0/84 [00:00<?, ?ba/s]"
      ]
     },
     "metadata": {},
     "output_type": "display_data"
    },
    {
     "data": {
      "application/vnd.jupyter.widget-view+json": {
       "model_id": "ab54315548524146baed4816e1b6bbce",
       "version_major": 2,
       "version_minor": 0
      },
      "text/plain": [
       "Creating json from Arrow format:   0%|          | 0/84 [00:00<?, ?ba/s]"
      ]
     },
     "metadata": {},
     "output_type": "display_data"
    },
    {
     "data": {
      "application/vnd.jupyter.widget-view+json": {
       "model_id": "8ef5b7abea3041048c9bdcefdc6449e8",
       "version_major": 2,
       "version_minor": 0
      },
      "text/plain": [
       "Creating json from Arrow format:   0%|          | 0/84 [00:00<?, ?ba/s]"
      ]
     },
     "metadata": {},
     "output_type": "display_data"
    },
    {
     "data": {
      "application/vnd.jupyter.widget-view+json": {
       "model_id": "b8967abe277343c8ada199380633bf25",
       "version_major": 2,
       "version_minor": 0
      },
      "text/plain": [
       "Creating json from Arrow format:   0%|          | 0/84 [00:00<?, ?ba/s]"
      ]
     },
     "metadata": {},
     "output_type": "display_data"
    },
    {
     "data": {
      "application/vnd.jupyter.widget-view+json": {
       "model_id": "b12550e107df4469aa5e4bfc362498e9",
       "version_major": 2,
       "version_minor": 0
      },
      "text/plain": [
       "Creating json from Arrow format:   0%|          | 0/84 [00:00<?, ?ba/s]"
      ]
     },
     "metadata": {},
     "output_type": "display_data"
    },
    {
     "data": {
      "application/vnd.jupyter.widget-view+json": {
       "model_id": "32a045f1dff3412fb40672fcb504fa31",
       "version_major": 2,
       "version_minor": 0
      },
      "text/plain": [
       "Creating json from Arrow format:   0%|          | 0/84 [00:00<?, ?ba/s]"
      ]
     },
     "metadata": {},
     "output_type": "display_data"
    },
    {
     "data": {
      "application/vnd.jupyter.widget-view+json": {
       "model_id": "296cc8d53ea441c68ee276bcc3459ace",
       "version_major": 2,
       "version_minor": 0
      },
      "text/plain": [
       "Creating json from Arrow format:   0%|          | 0/84 [00:00<?, ?ba/s]"
      ]
     },
     "metadata": {},
     "output_type": "display_data"
    },
    {
     "data": {
      "application/vnd.jupyter.widget-view+json": {
       "model_id": "339cf49a52b54e39a84cd8b240645e4b",
       "version_major": 2,
       "version_minor": 0
      },
      "text/plain": [
       "Creating json from Arrow format:   0%|          | 0/84 [00:00<?, ?ba/s]"
      ]
     },
     "metadata": {},
     "output_type": "display_data"
    },
    {
     "data": {
      "application/vnd.jupyter.widget-view+json": {
       "model_id": "d43633b4c9234bf4b754db7a9489c2a8",
       "version_major": 2,
       "version_minor": 0
      },
      "text/plain": [
       "Creating json from Arrow format:   0%|          | 0/84 [00:00<?, ?ba/s]"
      ]
     },
     "metadata": {},
     "output_type": "display_data"
    },
    {
     "data": {
      "application/vnd.jupyter.widget-view+json": {
       "model_id": "eec30b1cff9d4bbdbb53e20e33abf2e6",
       "version_major": 2,
       "version_minor": 0
      },
      "text/plain": [
       "Creating json from Arrow format:   0%|          | 0/84 [00:00<?, ?ba/s]"
      ]
     },
     "metadata": {},
     "output_type": "display_data"
    },
    {
     "data": {
      "application/vnd.jupyter.widget-view+json": {
       "model_id": "48f2656dcf2f4b4f8f04f408d1773e54",
       "version_major": 2,
       "version_minor": 0
      },
      "text/plain": [
       "Creating json from Arrow format:   0%|          | 0/84 [00:00<?, ?ba/s]"
      ]
     },
     "metadata": {},
     "output_type": "display_data"
    },
    {
     "name": "stdout",
     "output_type": "stream",
     "text": [
      "Data files: {'validation': 'OLMo/data/minipile/data/validation-*.parquet'}\n"
     ]
    },
    {
     "data": {
      "application/vnd.jupyter.widget-view+json": {
       "model_id": "b69ed8f3b43746c28518a44cd8810935",
       "version_major": 2,
       "version_minor": 0
      },
      "text/plain": [
       "Generating validation split: 0 examples [00:00, ? examples/s]"
      ]
     },
     "metadata": {},
     "output_type": "display_data"
    },
    {
     "name": "stdout",
     "output_type": "stream",
     "text": [
      "Split: validation, num_shards: 1\n"
     ]
    },
    {
     "data": {
      "application/vnd.jupyter.widget-view+json": {
       "model_id": "f71d962ac4cb4fa3b80fd3e78fc0497e",
       "version_major": 2,
       "version_minor": 0
      },
      "text/plain": [
       "Creating json from Arrow format:   0%|          | 0/1 [00:00<?, ?ba/s]"
      ]
     },
     "metadata": {},
     "output_type": "display_data"
    },
    {
     "name": "stdout",
     "output_type": "stream",
     "text": [
      "Data files: {'test': 'OLMo/data/minipile/data/test-*.parquet'}\n"
     ]
    },
    {
     "data": {
      "application/vnd.jupyter.widget-view+json": {
       "model_id": "65b917316b7e4156bce5efb09b9e7164",
       "version_major": 2,
       "version_minor": 0
      },
      "text/plain": [
       "Generating test split: 0 examples [00:00, ? examples/s]"
      ]
     },
     "metadata": {},
     "output_type": "display_data"
    },
    {
     "name": "stdout",
     "output_type": "stream",
     "text": [
      "Split: test, num_shards: 1\n"
     ]
    },
    {
     "data": {
      "application/vnd.jupyter.widget-view+json": {
       "model_id": "8ce595f243f340ea90c09bfff3a939de",
       "version_major": 2,
       "version_minor": 0
      },
      "text/plain": [
       "Creating json from Arrow format:   0%|          | 0/10 [00:00<?, ?ba/s]"
      ]
     },
     "metadata": {},
     "output_type": "display_data"
    }
   ],
   "source": [
    "import os\n",
    "from glob import glob\n",
    "from datasets import load_dataset, Features, Value\n",
    "\n",
    "os.chdir(\"/n/home08/zkong/mufan/tmp/moebench/\")\n",
    "\n",
    "# 定义输入和输出目录\n",
    "input_dir = \"OLMo/data/minipile\"\n",
    "output_dir = \"OLMo/data/minipile-jsonl\"\n",
    "os.makedirs(output_dir, exist_ok=True)\n",
    "\n",
    "# 定义数据集的拆分\n",
    "splits = [\"train\", \"validation\", \"test\"]\n",
    "\n",
    "\n",
    "features = Features({\"text\": Value(dtype=\"string\")})\n",
    "\n",
    "# 处理每个拆分\n",
    "for split in splits:\n",
    "    # 构建数据文件路径\n",
    "    data_files = {split: os.path.join(input_dir, f\"data/{split}-*.parquet\")}\n",
    "    print(f\"Data files: {data_files}\")\n",
    "\n",
    "    # 加载数据集\n",
    "    dataset = load_dataset(\"parquet\", data_files=data_files, split=split, features=features)\n",
    "\n",
    "    # 计算每个文件应包含的样本数量\n",
    "    num_shards = glob(data_files[split]).__len__()\n",
    "    print(f\"Split: {split}, num_shards: {num_shards}\")\n",
    "    shard_size = len(dataset) // num_shards\n",
    "\n",
    "    # 保存为多个 JSON Lines 文件\n",
    "    for shard_id in range(num_shards):\n",
    "        start_idx = shard_id * shard_size\n",
    "        end_idx = (shard_id + 1) * shard_size if shard_id < num_shards - 1 else len(dataset)\n",
    "        shard_dataset = dataset.select(range(start_idx, end_idx))\n",
    "        shard_path = os.path.join(output_dir, f\"{split}-{shard_id:05d}-of-{num_shards:05d}.jsonl\")\n",
    "        shard_dataset.to_json(shard_path)"
   ]
  },
  {
   "cell_type": "code",
   "execution_count": null,
   "metadata": {},
   "outputs": [],
   "source": [
    "from datasets import load_dataset\n",
    "\n",
    "dataset = load_dataset(\"json\", data_dir=\"OLMo/data/minipile-jsonl\")"
   ]
  },
  {
   "cell_type": "code",
   "execution_count": 9,
   "metadata": {},
   "outputs": [
    {
     "data": {
      "application/vnd.jupyter.widget-view+json": {
       "model_id": "a304f3787b39457fac1f526bebc83f58",
       "version_major": 2,
       "version_minor": 0
      },
      "text/plain": [
       "Checking files:   0%|          | 0/14 [00:00<?, ?it/s]"
      ]
     },
     "metadata": {},
     "output_type": "display_data"
    },
    {
     "name": "stdout",
     "output_type": "stream",
     "text": [
      "Checking file: OLMo/data/minipile-jsonl/test-00000-of-00001.jsonl\n",
      "Checking file: OLMo/data/minipile-jsonl/train-00000-of-00012.jsonl\n",
      "Checking file: OLMo/data/minipile-jsonl/train-00001-of-00012.jsonl\n",
      "Checking file: OLMo/data/minipile-jsonl/train-00002-of-00012.jsonl\n",
      "Checking file: OLMo/data/minipile-jsonl/train-00003-of-00012.jsonl\n",
      "Checking file: OLMo/data/minipile-jsonl/train-00004-of-00012.jsonl\n",
      "Checking file: OLMo/data/minipile-jsonl/train-00005-of-00012.jsonl\n",
      "Checking file: OLMo/data/minipile-jsonl/train-00006-of-00012.jsonl\n",
      "Checking file: OLMo/data/minipile-jsonl/train-00007-of-00012.jsonl\n",
      "Checking file: OLMo/data/minipile-jsonl/train-00008-of-00012.jsonl\n",
      "Checking file: OLMo/data/minipile-jsonl/train-00009-of-00012.jsonl\n",
      "Checking file: OLMo/data/minipile-jsonl/train-00010-of-00012.jsonl\n",
      "Checking file: OLMo/data/minipile-jsonl/train-00011-of-00012.jsonl\n",
      "Checking file: OLMo/data/minipile-jsonl/validation-00000-of-00001.jsonl\n"
     ]
    }
   ],
   "source": [
    "from tqdm.auto import tqdm\n",
    "import json\n",
    "\n",
    "data_dir = \"OLMo/data/minipile-jsonl\"\n",
    "for filename in tqdm(glob(f\"{data_dir}/*.jsonl\"), desc=\"Checking files\"):\n",
    "    print(f\"Checking file: {filename}\")\n",
    "    index = filename.split(\"/\")[-1].split(\"-\")[1]\n",
    "\n",
    "    results = []\n",
    "\n",
    "    with open(filename, \"r\") as f:\n",
    "        for lineno, line in enumerate(f):\n",
    "            data = json.loads(line)\n",
    "            data[\"id\"] = f\"minipile-{index}-{lineno}\"\n",
    "\n",
    "            results.append(data)\n",
    "\n",
    "    with open(filename, \"w\") as f:\n",
    "        for data in results:\n",
    "            f.write(json.dumps(data) + \"\\n\")"
   ]
  },
  {
   "cell_type": "code",
   "execution_count": 10,
   "metadata": {},
   "outputs": [
    {
     "data": {
      "application/vnd.jupyter.widget-view+json": {
       "model_id": "9fc2b732466f4036964e85b901a43b2b",
       "version_major": 2,
       "version_minor": 0
      },
      "text/plain": [
       "Generating train split: 0 examples [00:00, ? examples/s]"
      ]
     },
     "metadata": {},
     "output_type": "display_data"
    },
    {
     "data": {
      "application/vnd.jupyter.widget-view+json": {
       "model_id": "950efa0e28e7438f9b38e39be1272309",
       "version_major": 2,
       "version_minor": 0
      },
      "text/plain": [
       "Generating validation split: 0 examples [00:00, ? examples/s]"
      ]
     },
     "metadata": {},
     "output_type": "display_data"
    },
    {
     "data": {
      "application/vnd.jupyter.widget-view+json": {
       "model_id": "f8e2b29b1bf343e1bf123a5df9819a38",
       "version_major": 2,
       "version_minor": 0
      },
      "text/plain": [
       "Generating test split: 0 examples [00:00, ? examples/s]"
      ]
     },
     "metadata": {},
     "output_type": "display_data"
    },
    {
     "data": {
      "application/vnd.jupyter.widget-view+json": {
       "model_id": "a7dd4f13e17a441197a2f2e05c6f01c2",
       "version_major": 2,
       "version_minor": 0
      },
      "text/plain": [
       "Uploading the dataset shards:   0%|          | 0/12 [00:00<?, ?it/s]"
      ]
     },
     "metadata": {},
     "output_type": "display_data"
    },
    {
     "data": {
      "application/vnd.jupyter.widget-view+json": {
       "model_id": "3fc725d8f28c466cad8723f87d4cba79",
       "version_major": 2,
       "version_minor": 0
      },
      "text/plain": [
       "Creating parquet from Arrow format:   0%|          | 0/84 [00:00<?, ?ba/s]"
      ]
     },
     "metadata": {},
     "output_type": "display_data"
    },
    {
     "data": {
      "application/vnd.jupyter.widget-view+json": {
       "model_id": "c25d79ad1ca04f2db7d035361056b71f",
       "version_major": 2,
       "version_minor": 0
      },
      "text/plain": [
       "Creating parquet from Arrow format:   0%|          | 0/84 [00:00<?, ?ba/s]"
      ]
     },
     "metadata": {},
     "output_type": "display_data"
    },
    {
     "data": {
      "application/vnd.jupyter.widget-view+json": {
       "model_id": "49c674ed80aa4b9389ff472ef19e23fa",
       "version_major": 2,
       "version_minor": 0
      },
      "text/plain": [
       "Creating parquet from Arrow format:   0%|          | 0/84 [00:00<?, ?ba/s]"
      ]
     },
     "metadata": {},
     "output_type": "display_data"
    },
    {
     "data": {
      "application/vnd.jupyter.widget-view+json": {
       "model_id": "cfac7c27e66040d48dcc9a3e6f2968a9",
       "version_major": 2,
       "version_minor": 0
      },
      "text/plain": [
       "Creating parquet from Arrow format:   0%|          | 0/84 [00:00<?, ?ba/s]"
      ]
     },
     "metadata": {},
     "output_type": "display_data"
    },
    {
     "data": {
      "application/vnd.jupyter.widget-view+json": {
       "model_id": "d4b5b9d309b64780963ea70288e31dbc",
       "version_major": 2,
       "version_minor": 0
      },
      "text/plain": [
       "Creating parquet from Arrow format:   0%|          | 0/84 [00:00<?, ?ba/s]"
      ]
     },
     "metadata": {},
     "output_type": "display_data"
    },
    {
     "data": {
      "application/vnd.jupyter.widget-view+json": {
       "model_id": "ea423c03a89f42e4952718387bbef481",
       "version_major": 2,
       "version_minor": 0
      },
      "text/plain": [
       "Creating parquet from Arrow format:   0%|          | 0/84 [00:00<?, ?ba/s]"
      ]
     },
     "metadata": {},
     "output_type": "display_data"
    },
    {
     "data": {
      "application/vnd.jupyter.widget-view+json": {
       "model_id": "04cec9b4409a4c9291d673ae04303aca",
       "version_major": 2,
       "version_minor": 0
      },
      "text/plain": [
       "Creating parquet from Arrow format:   0%|          | 0/84 [00:00<?, ?ba/s]"
      ]
     },
     "metadata": {},
     "output_type": "display_data"
    },
    {
     "data": {
      "application/vnd.jupyter.widget-view+json": {
       "model_id": "100a71396ec34fe99cc2126cefcef014",
       "version_major": 2,
       "version_minor": 0
      },
      "text/plain": [
       "Creating parquet from Arrow format:   0%|          | 0/84 [00:00<?, ?ba/s]"
      ]
     },
     "metadata": {},
     "output_type": "display_data"
    },
    {
     "data": {
      "application/vnd.jupyter.widget-view+json": {
       "model_id": "f09ac3132f7d491e8b77397521ec1274",
       "version_major": 2,
       "version_minor": 0
      },
      "text/plain": [
       "Creating parquet from Arrow format:   0%|          | 0/84 [00:00<?, ?ba/s]"
      ]
     },
     "metadata": {},
     "output_type": "display_data"
    },
    {
     "data": {
      "application/vnd.jupyter.widget-view+json": {
       "model_id": "8ff2ab09095e4f0dac3825b0ffea7a6a",
       "version_major": 2,
       "version_minor": 0
      },
      "text/plain": [
       "Creating parquet from Arrow format:   0%|          | 0/84 [00:00<?, ?ba/s]"
      ]
     },
     "metadata": {},
     "output_type": "display_data"
    },
    {
     "data": {
      "application/vnd.jupyter.widget-view+json": {
       "model_id": "9523fe90e3f14e9684dcad94eba415c0",
       "version_major": 2,
       "version_minor": 0
      },
      "text/plain": [
       "Creating parquet from Arrow format:   0%|          | 0/84 [00:00<?, ?ba/s]"
      ]
     },
     "metadata": {},
     "output_type": "display_data"
    },
    {
     "data": {
      "application/vnd.jupyter.widget-view+json": {
       "model_id": "ea992b00f8da45f4bf9479ba976c9ea8",
       "version_major": 2,
       "version_minor": 0
      },
      "text/plain": [
       "Creating parquet from Arrow format:   0%|          | 0/84 [00:00<?, ?ba/s]"
      ]
     },
     "metadata": {},
     "output_type": "display_data"
    },
    {
     "data": {
      "application/vnd.jupyter.widget-view+json": {
       "model_id": "f84b2a242b784a66b7432c3d11dd96f7",
       "version_major": 2,
       "version_minor": 0
      },
      "text/plain": [
       "Uploading the dataset shards:   0%|          | 0/1 [00:00<?, ?it/s]"
      ]
     },
     "metadata": {},
     "output_type": "display_data"
    },
    {
     "data": {
      "application/vnd.jupyter.widget-view+json": {
       "model_id": "054c7eaa158044c2aca1783d95cbe8bd",
       "version_major": 2,
       "version_minor": 0
      },
      "text/plain": [
       "Creating parquet from Arrow format:   0%|          | 0/1 [00:00<?, ?ba/s]"
      ]
     },
     "metadata": {},
     "output_type": "display_data"
    },
    {
     "data": {
      "application/vnd.jupyter.widget-view+json": {
       "model_id": "9f7a513ea9944eb19b3581cea90e6abb",
       "version_major": 2,
       "version_minor": 0
      },
      "text/plain": [
       "Uploading the dataset shards:   0%|          | 0/1 [00:00<?, ?it/s]"
      ]
     },
     "metadata": {},
     "output_type": "display_data"
    },
    {
     "data": {
      "application/vnd.jupyter.widget-view+json": {
       "model_id": "7a981007b9bf47cc94c54ba6210acf17",
       "version_major": 2,
       "version_minor": 0
      },
      "text/plain": [
       "Creating parquet from Arrow format:   0%|          | 0/10 [00:00<?, ?ba/s]"
      ]
     },
     "metadata": {},
     "output_type": "display_data"
    },
    {
     "data": {
      "text/plain": [
       "CommitInfo(commit_url='https://huggingface.co/datasets/WhenceFade/minipile_olmoe/commit/936cbea66db52408b3847f497a724a57b310e502', commit_message='Upload dataset', commit_description='', oid='936cbea66db52408b3847f497a724a57b310e502', pr_url=None, repo_url=RepoUrl('https://huggingface.co/datasets/WhenceFade/minipile_olmoe', endpoint='https://huggingface.co', repo_type='dataset', repo_id='WhenceFade/minipile_olmoe'), pr_revision=None, pr_num=None)"
      ]
     },
     "execution_count": 10,
     "metadata": {},
     "output_type": "execute_result"
    }
   ],
   "source": [
    "dataset = load_dataset(\"json\", data_dir=\"OLMo/data/minipile-jsonl\")\n",
    "dataset.push_to_hub(\"WhenceFade/minipile_olmoe\")"
   ]
  }
 ],
 "metadata": {
  "kernelspec": {
   "display_name": "Python 3",
   "language": "python",
   "name": "python3"
  },
  "language_info": {
   "codemirror_mode": {
    "name": "ipython",
    "version": 3
   },
   "file_extension": ".py",
   "mimetype": "text/x-python",
   "name": "python",
   "nbconvert_exporter": "python",
   "pygments_lexer": "ipython3",
   "version": "3.12.9"
  }
 },
 "nbformat": 4,
 "nbformat_minor": 2
}
